{
  "cells": [
    {
      "cell_type": "markdown",
      "metadata": {
        "id": "view-in-github",
        "colab_type": "text"
      },
      "source": [
        "<a href=\"https://colab.research.google.com/github/Prakash-Nagamani/summer_intern/blob/main/movie_recommendation_system_using_KNN_Algo.ipynb\" target=\"_parent\"><img src=\"https://colab.research.google.com/assets/colab-badge.svg\" alt=\"Open In Colab\"/></a>"
      ]
    },
    {
      "cell_type": "markdown",
      "metadata": {
        "id": "dF6Xsd5169Qb"
      },
      "source": [
        "## **Importing Dependencies and Dataset**"
      ]
    },
    {
      "cell_type": "code",
      "execution_count": null,
      "metadata": {
        "id": "tbjxJHjqcOYu"
      },
      "outputs": [],
      "source": [
        "import pandas as pd\n",
        "import numpy as np\n",
        "import difflib\n",
        "import matplotlib.pyplot as plt\n",
        "import operator\n",
        "from scipy import spatial\n",
        "import pdb\n",
        "from matplotlib import colors\n",
        "from matplotlib.ticker import PercentFormatter\n",
        "import seaborn as sns\n",
        "from ast import literal_eval\n",
        "from sklearn.metrics.pairwise import cosine_similarity\n",
        "from sklearn.metrics import accuracy_score\n",
        "%matplotlib inline"
      ]
    },
    {
      "cell_type": "code",
      "execution_count": null,
      "metadata": {
        "colab": {
          "base_uri": "https://localhost:8080/"
        },
        "id": "Oj2MiBqe7INy",
        "outputId": "d332b8fe-dd34-4259-c59c-651d857c12a3"
      },
      "outputs": [
        {
          "output_type": "stream",
          "name": "stderr",
          "text": [
            "/usr/local/lib/python3.7/dist-packages/IPython/core/interactiveshell.py:2882: DtypeWarning: Columns (10) have mixed types.Specify dtype option on import or set low_memory=False.\n",
            "  exec(code_obj, self.user_global_ns, self.user_ns)\n"
          ]
        }
      ],
      "source": [
        "movies_dataset = pd.read_csv(\"/content/movies_metadata.csv\")\n",
        "keywords_dataset = pd.read_csv(\"/content/keywords.csv.xls\")\n",
        "credits_dataset = pd.read_csv(\"/content/credits.csv\")"
      ]
    },
    {
      "cell_type": "markdown",
      "metadata": {
        "id": "-q5JqRQN3G48"
      },
      "source": [
        "# **Data Exploration and Cleaning** "
      ]
    },
    {
      "cell_type": "code",
      "source": [
        "movies_dataset.head(1)"
      ],
      "metadata": {
        "colab": {
          "base_uri": "https://localhost:8080/",
          "height": 261
        },
        "id": "x0__iMt35N1t",
        "outputId": "0b98af91-b3eb-4c2f-c3f5-54f70047c17d"
      },
      "execution_count": null,
      "outputs": [
        {
          "output_type": "execute_result",
          "data": {
            "text/plain": [
              "   adult                              belongs_to_collection    budget  \\\n",
              "0  False  {'id': 10194, 'name': 'Toy Story Collection', ...  30000000   \n",
              "\n",
              "                                              genres  \\\n",
              "0  [{'id': 16, 'name': 'Animation'}, {'id': 35, '...   \n",
              "\n",
              "                               homepage   id    imdb_id original_language  \\\n",
              "0  http://toystory.disney.com/toy-story  862  tt0114709                en   \n",
              "\n",
              "  original_title                                           overview  ...  \\\n",
              "0      Toy Story  Led by Woody, Andy's toys live happily in his ...  ...   \n",
              "\n",
              "  release_date      revenue runtime                          spoken_languages  \\\n",
              "0   1995-10-30  373554033.0    81.0  [{'iso_639_1': 'en', 'name': 'English'}]   \n",
              "\n",
              "     status  tagline      title  video vote_average vote_count  \n",
              "0  Released      NaN  Toy Story  False          7.7     5415.0  \n",
              "\n",
              "[1 rows x 24 columns]"
            ],
            "text/html": [
              "\n",
              "  <div id=\"df-396cbdf5-1ab9-46ec-b689-f10fba2cd335\">\n",
              "    <div class=\"colab-df-container\">\n",
              "      <div>\n",
              "<style scoped>\n",
              "    .dataframe tbody tr th:only-of-type {\n",
              "        vertical-align: middle;\n",
              "    }\n",
              "\n",
              "    .dataframe tbody tr th {\n",
              "        vertical-align: top;\n",
              "    }\n",
              "\n",
              "    .dataframe thead th {\n",
              "        text-align: right;\n",
              "    }\n",
              "</style>\n",
              "<table border=\"1\" class=\"dataframe\">\n",
              "  <thead>\n",
              "    <tr style=\"text-align: right;\">\n",
              "      <th></th>\n",
              "      <th>adult</th>\n",
              "      <th>belongs_to_collection</th>\n",
              "      <th>budget</th>\n",
              "      <th>genres</th>\n",
              "      <th>homepage</th>\n",
              "      <th>id</th>\n",
              "      <th>imdb_id</th>\n",
              "      <th>original_language</th>\n",
              "      <th>original_title</th>\n",
              "      <th>overview</th>\n",
              "      <th>...</th>\n",
              "      <th>release_date</th>\n",
              "      <th>revenue</th>\n",
              "      <th>runtime</th>\n",
              "      <th>spoken_languages</th>\n",
              "      <th>status</th>\n",
              "      <th>tagline</th>\n",
              "      <th>title</th>\n",
              "      <th>video</th>\n",
              "      <th>vote_average</th>\n",
              "      <th>vote_count</th>\n",
              "    </tr>\n",
              "  </thead>\n",
              "  <tbody>\n",
              "    <tr>\n",
              "      <th>0</th>\n",
              "      <td>False</td>\n",
              "      <td>{'id': 10194, 'name': 'Toy Story Collection', ...</td>\n",
              "      <td>30000000</td>\n",
              "      <td>[{'id': 16, 'name': 'Animation'}, {'id': 35, '...</td>\n",
              "      <td>http://toystory.disney.com/toy-story</td>\n",
              "      <td>862</td>\n",
              "      <td>tt0114709</td>\n",
              "      <td>en</td>\n",
              "      <td>Toy Story</td>\n",
              "      <td>Led by Woody, Andy's toys live happily in his ...</td>\n",
              "      <td>...</td>\n",
              "      <td>1995-10-30</td>\n",
              "      <td>373554033.0</td>\n",
              "      <td>81.0</td>\n",
              "      <td>[{'iso_639_1': 'en', 'name': 'English'}]</td>\n",
              "      <td>Released</td>\n",
              "      <td>NaN</td>\n",
              "      <td>Toy Story</td>\n",
              "      <td>False</td>\n",
              "      <td>7.7</td>\n",
              "      <td>5415.0</td>\n",
              "    </tr>\n",
              "  </tbody>\n",
              "</table>\n",
              "<p>1 rows × 24 columns</p>\n",
              "</div>\n",
              "      <button class=\"colab-df-convert\" onclick=\"convertToInteractive('df-396cbdf5-1ab9-46ec-b689-f10fba2cd335')\"\n",
              "              title=\"Convert this dataframe to an interactive table.\"\n",
              "              style=\"display:none;\">\n",
              "        \n",
              "  <svg xmlns=\"http://www.w3.org/2000/svg\" height=\"24px\"viewBox=\"0 0 24 24\"\n",
              "       width=\"24px\">\n",
              "    <path d=\"M0 0h24v24H0V0z\" fill=\"none\"/>\n",
              "    <path d=\"M18.56 5.44l.94 2.06.94-2.06 2.06-.94-2.06-.94-.94-2.06-.94 2.06-2.06.94zm-11 1L8.5 8.5l.94-2.06 2.06-.94-2.06-.94L8.5 2.5l-.94 2.06-2.06.94zm10 10l.94 2.06.94-2.06 2.06-.94-2.06-.94-.94-2.06-.94 2.06-2.06.94z\"/><path d=\"M17.41 7.96l-1.37-1.37c-.4-.4-.92-.59-1.43-.59-.52 0-1.04.2-1.43.59L10.3 9.45l-7.72 7.72c-.78.78-.78 2.05 0 2.83L4 21.41c.39.39.9.59 1.41.59.51 0 1.02-.2 1.41-.59l7.78-7.78 2.81-2.81c.8-.78.8-2.07 0-2.86zM5.41 20L4 18.59l7.72-7.72 1.47 1.35L5.41 20z\"/>\n",
              "  </svg>\n",
              "      </button>\n",
              "      \n",
              "  <style>\n",
              "    .colab-df-container {\n",
              "      display:flex;\n",
              "      flex-wrap:wrap;\n",
              "      gap: 12px;\n",
              "    }\n",
              "\n",
              "    .colab-df-convert {\n",
              "      background-color: #E8F0FE;\n",
              "      border: none;\n",
              "      border-radius: 50%;\n",
              "      cursor: pointer;\n",
              "      display: none;\n",
              "      fill: #1967D2;\n",
              "      height: 32px;\n",
              "      padding: 0 0 0 0;\n",
              "      width: 32px;\n",
              "    }\n",
              "\n",
              "    .colab-df-convert:hover {\n",
              "      background-color: #E2EBFA;\n",
              "      box-shadow: 0px 1px 2px rgba(60, 64, 67, 0.3), 0px 1px 3px 1px rgba(60, 64, 67, 0.15);\n",
              "      fill: #174EA6;\n",
              "    }\n",
              "\n",
              "    [theme=dark] .colab-df-convert {\n",
              "      background-color: #3B4455;\n",
              "      fill: #D2E3FC;\n",
              "    }\n",
              "\n",
              "    [theme=dark] .colab-df-convert:hover {\n",
              "      background-color: #434B5C;\n",
              "      box-shadow: 0px 1px 3px 1px rgba(0, 0, 0, 0.15);\n",
              "      filter: drop-shadow(0px 1px 2px rgba(0, 0, 0, 0.3));\n",
              "      fill: #FFFFFF;\n",
              "    }\n",
              "  </style>\n",
              "\n",
              "      <script>\n",
              "        const buttonEl =\n",
              "          document.querySelector('#df-396cbdf5-1ab9-46ec-b689-f10fba2cd335 button.colab-df-convert');\n",
              "        buttonEl.style.display =\n",
              "          google.colab.kernel.accessAllowed ? 'block' : 'none';\n",
              "\n",
              "        async function convertToInteractive(key) {\n",
              "          const element = document.querySelector('#df-396cbdf5-1ab9-46ec-b689-f10fba2cd335');\n",
              "          const dataTable =\n",
              "            await google.colab.kernel.invokeFunction('convertToInteractive',\n",
              "                                                     [key], {});\n",
              "          if (!dataTable) return;\n",
              "\n",
              "          const docLinkHtml = 'Like what you see? Visit the ' +\n",
              "            '<a target=\"_blank\" href=https://colab.research.google.com/notebooks/data_table.ipynb>data table notebook</a>'\n",
              "            + ' to learn more about interactive tables.';\n",
              "          element.innerHTML = '';\n",
              "          dataTable['output_type'] = 'display_data';\n",
              "          await google.colab.output.renderOutput(dataTable, element);\n",
              "          const docLink = document.createElement('div');\n",
              "          docLink.innerHTML = docLinkHtml;\n",
              "          element.appendChild(docLink);\n",
              "        }\n",
              "      </script>\n",
              "    </div>\n",
              "  </div>\n",
              "  "
            ]
          },
          "metadata": {},
          "execution_count": 53
        }
      ]
    },
    {
      "cell_type": "code",
      "source": [
        "credits_dataset.head(1)"
      ],
      "metadata": {
        "colab": {
          "base_uri": "https://localhost:8080/",
          "height": 142
        },
        "id": "bNoydVR15baT",
        "outputId": "d92652e0-927d-4d7f-bfe5-724792968212"
      },
      "execution_count": null,
      "outputs": [
        {
          "output_type": "execute_result",
          "data": {
            "text/plain": [
              "                                                cast  \\\n",
              "0  [{'cast_id': 14, 'character': 'Woody (voice)',...   \n",
              "\n",
              "                                                crew   id  \n",
              "0  [{'credit_id': '52fe4284c3a36847f8024f49', 'de...  862  "
            ],
            "text/html": [
              "\n",
              "  <div id=\"df-4608032c-4ece-4c65-b17f-0dca207b9ae2\">\n",
              "    <div class=\"colab-df-container\">\n",
              "      <div>\n",
              "<style scoped>\n",
              "    .dataframe tbody tr th:only-of-type {\n",
              "        vertical-align: middle;\n",
              "    }\n",
              "\n",
              "    .dataframe tbody tr th {\n",
              "        vertical-align: top;\n",
              "    }\n",
              "\n",
              "    .dataframe thead th {\n",
              "        text-align: right;\n",
              "    }\n",
              "</style>\n",
              "<table border=\"1\" class=\"dataframe\">\n",
              "  <thead>\n",
              "    <tr style=\"text-align: right;\">\n",
              "      <th></th>\n",
              "      <th>cast</th>\n",
              "      <th>crew</th>\n",
              "      <th>id</th>\n",
              "    </tr>\n",
              "  </thead>\n",
              "  <tbody>\n",
              "    <tr>\n",
              "      <th>0</th>\n",
              "      <td>[{'cast_id': 14, 'character': 'Woody (voice)',...</td>\n",
              "      <td>[{'credit_id': '52fe4284c3a36847f8024f49', 'de...</td>\n",
              "      <td>862</td>\n",
              "    </tr>\n",
              "  </tbody>\n",
              "</table>\n",
              "</div>\n",
              "      <button class=\"colab-df-convert\" onclick=\"convertToInteractive('df-4608032c-4ece-4c65-b17f-0dca207b9ae2')\"\n",
              "              title=\"Convert this dataframe to an interactive table.\"\n",
              "              style=\"display:none;\">\n",
              "        \n",
              "  <svg xmlns=\"http://www.w3.org/2000/svg\" height=\"24px\"viewBox=\"0 0 24 24\"\n",
              "       width=\"24px\">\n",
              "    <path d=\"M0 0h24v24H0V0z\" fill=\"none\"/>\n",
              "    <path d=\"M18.56 5.44l.94 2.06.94-2.06 2.06-.94-2.06-.94-.94-2.06-.94 2.06-2.06.94zm-11 1L8.5 8.5l.94-2.06 2.06-.94-2.06-.94L8.5 2.5l-.94 2.06-2.06.94zm10 10l.94 2.06.94-2.06 2.06-.94-2.06-.94-.94-2.06-.94 2.06-2.06.94z\"/><path d=\"M17.41 7.96l-1.37-1.37c-.4-.4-.92-.59-1.43-.59-.52 0-1.04.2-1.43.59L10.3 9.45l-7.72 7.72c-.78.78-.78 2.05 0 2.83L4 21.41c.39.39.9.59 1.41.59.51 0 1.02-.2 1.41-.59l7.78-7.78 2.81-2.81c.8-.78.8-2.07 0-2.86zM5.41 20L4 18.59l7.72-7.72 1.47 1.35L5.41 20z\"/>\n",
              "  </svg>\n",
              "      </button>\n",
              "      \n",
              "  <style>\n",
              "    .colab-df-container {\n",
              "      display:flex;\n",
              "      flex-wrap:wrap;\n",
              "      gap: 12px;\n",
              "    }\n",
              "\n",
              "    .colab-df-convert {\n",
              "      background-color: #E8F0FE;\n",
              "      border: none;\n",
              "      border-radius: 50%;\n",
              "      cursor: pointer;\n",
              "      display: none;\n",
              "      fill: #1967D2;\n",
              "      height: 32px;\n",
              "      padding: 0 0 0 0;\n",
              "      width: 32px;\n",
              "    }\n",
              "\n",
              "    .colab-df-convert:hover {\n",
              "      background-color: #E2EBFA;\n",
              "      box-shadow: 0px 1px 2px rgba(60, 64, 67, 0.3), 0px 1px 3px 1px rgba(60, 64, 67, 0.15);\n",
              "      fill: #174EA6;\n",
              "    }\n",
              "\n",
              "    [theme=dark] .colab-df-convert {\n",
              "      background-color: #3B4455;\n",
              "      fill: #D2E3FC;\n",
              "    }\n",
              "\n",
              "    [theme=dark] .colab-df-convert:hover {\n",
              "      background-color: #434B5C;\n",
              "      box-shadow: 0px 1px 3px 1px rgba(0, 0, 0, 0.15);\n",
              "      filter: drop-shadow(0px 1px 2px rgba(0, 0, 0, 0.3));\n",
              "      fill: #FFFFFF;\n",
              "    }\n",
              "  </style>\n",
              "\n",
              "      <script>\n",
              "        const buttonEl =\n",
              "          document.querySelector('#df-4608032c-4ece-4c65-b17f-0dca207b9ae2 button.colab-df-convert');\n",
              "        buttonEl.style.display =\n",
              "          google.colab.kernel.accessAllowed ? 'block' : 'none';\n",
              "\n",
              "        async function convertToInteractive(key) {\n",
              "          const element = document.querySelector('#df-4608032c-4ece-4c65-b17f-0dca207b9ae2');\n",
              "          const dataTable =\n",
              "            await google.colab.kernel.invokeFunction('convertToInteractive',\n",
              "                                                     [key], {});\n",
              "          if (!dataTable) return;\n",
              "\n",
              "          const docLinkHtml = 'Like what you see? Visit the ' +\n",
              "            '<a target=\"_blank\" href=https://colab.research.google.com/notebooks/data_table.ipynb>data table notebook</a>'\n",
              "            + ' to learn more about interactive tables.';\n",
              "          element.innerHTML = '';\n",
              "          dataTable['output_type'] = 'display_data';\n",
              "          await google.colab.output.renderOutput(dataTable, element);\n",
              "          const docLink = document.createElement('div');\n",
              "          docLink.innerHTML = docLinkHtml;\n",
              "          element.appendChild(docLink);\n",
              "        }\n",
              "      </script>\n",
              "    </div>\n",
              "  </div>\n",
              "  "
            ]
          },
          "metadata": {},
          "execution_count": 54
        }
      ]
    },
    {
      "cell_type": "code",
      "source": [
        "movies_dataset.drop(['poster_path','spoken_languages','status'  ,'video','revenue','adult','belongs_to_collection','budget','homepage','imdb_id'], axis = 1,inplace=True)"
      ],
      "metadata": {
        "id": "w7oc2TnZ70Vg"
      },
      "execution_count": null,
      "outputs": []
    },
    {
      "cell_type": "code",
      "source": [
        "credits_dataset['crew'] = credits_dataset['crew'].fillna('[]').apply(literal_eval).apply(lambda x: [i['name'] for i in x if i['job'] == 'Director'] if isinstance(x, list) else [])\n",
        "credits_dataset.rename(columns = {'crew':'Director'}, inplace = True)"
      ],
      "metadata": {
        "id": "xGLwkshDwE5a"
      },
      "execution_count": null,
      "outputs": []
    },
    {
      "cell_type": "code",
      "execution_count": null,
      "metadata": {
        "id": "H36OnDDCxprI"
      },
      "outputs": [],
      "source": [
        "index = movies_dataset.index\n",
        "condition = movies_dataset['id'].str.contains(pat = '-')\n",
        "wrong = index[condition]\n",
        "wrong\n",
        "movies_dataset.drop(wrong, inplace = True)\n",
        "# movies_dataset['id'][35587]"
      ]
    },
    {
      "cell_type": "code",
      "source": [
        "movies_dataset.head(1)"
      ],
      "metadata": {
        "colab": {
          "base_uri": "https://localhost:8080/",
          "height": 231
        },
        "id": "o5ebJOxjQvSF",
        "outputId": "dac8f079-3d23-414c-f0ea-190d2dcfede4"
      },
      "execution_count": null,
      "outputs": [
        {
          "output_type": "execute_result",
          "data": {
            "text/plain": [
              "                                              genres   id original_language  \\\n",
              "0  [{'id': 16, 'name': 'Animation'}, {'id': 35, '...  862                en   \n",
              "\n",
              "  original_title                                           overview  \\\n",
              "0      Toy Story  Led by Woody, Andy's toys live happily in his ...   \n",
              "\n",
              "  popularity                            production_companies  \\\n",
              "0  21.946943  [{'name': 'Pixar Animation Studios', 'id': 3}]   \n",
              "\n",
              "                                production_countries release_date  runtime  \\\n",
              "0  [{'iso_3166_1': 'US', 'name': 'United States o...   1995-10-30     81.0   \n",
              "\n",
              "  tagline      title  vote_average  vote_count  \n",
              "0     NaN  Toy Story           7.7      5415.0  "
            ],
            "text/html": [
              "\n",
              "  <div id=\"df-4bf7c51c-a928-4d8e-857d-93ea6ae92ba9\">\n",
              "    <div class=\"colab-df-container\">\n",
              "      <div>\n",
              "<style scoped>\n",
              "    .dataframe tbody tr th:only-of-type {\n",
              "        vertical-align: middle;\n",
              "    }\n",
              "\n",
              "    .dataframe tbody tr th {\n",
              "        vertical-align: top;\n",
              "    }\n",
              "\n",
              "    .dataframe thead th {\n",
              "        text-align: right;\n",
              "    }\n",
              "</style>\n",
              "<table border=\"1\" class=\"dataframe\">\n",
              "  <thead>\n",
              "    <tr style=\"text-align: right;\">\n",
              "      <th></th>\n",
              "      <th>genres</th>\n",
              "      <th>id</th>\n",
              "      <th>original_language</th>\n",
              "      <th>original_title</th>\n",
              "      <th>overview</th>\n",
              "      <th>popularity</th>\n",
              "      <th>production_companies</th>\n",
              "      <th>production_countries</th>\n",
              "      <th>release_date</th>\n",
              "      <th>runtime</th>\n",
              "      <th>tagline</th>\n",
              "      <th>title</th>\n",
              "      <th>vote_average</th>\n",
              "      <th>vote_count</th>\n",
              "    </tr>\n",
              "  </thead>\n",
              "  <tbody>\n",
              "    <tr>\n",
              "      <th>0</th>\n",
              "      <td>[{'id': 16, 'name': 'Animation'}, {'id': 35, '...</td>\n",
              "      <td>862</td>\n",
              "      <td>en</td>\n",
              "      <td>Toy Story</td>\n",
              "      <td>Led by Woody, Andy's toys live happily in his ...</td>\n",
              "      <td>21.946943</td>\n",
              "      <td>[{'name': 'Pixar Animation Studios', 'id': 3}]</td>\n",
              "      <td>[{'iso_3166_1': 'US', 'name': 'United States o...</td>\n",
              "      <td>1995-10-30</td>\n",
              "      <td>81.0</td>\n",
              "      <td>NaN</td>\n",
              "      <td>Toy Story</td>\n",
              "      <td>7.7</td>\n",
              "      <td>5415.0</td>\n",
              "    </tr>\n",
              "  </tbody>\n",
              "</table>\n",
              "</div>\n",
              "      <button class=\"colab-df-convert\" onclick=\"convertToInteractive('df-4bf7c51c-a928-4d8e-857d-93ea6ae92ba9')\"\n",
              "              title=\"Convert this dataframe to an interactive table.\"\n",
              "              style=\"display:none;\">\n",
              "        \n",
              "  <svg xmlns=\"http://www.w3.org/2000/svg\" height=\"24px\"viewBox=\"0 0 24 24\"\n",
              "       width=\"24px\">\n",
              "    <path d=\"M0 0h24v24H0V0z\" fill=\"none\"/>\n",
              "    <path d=\"M18.56 5.44l.94 2.06.94-2.06 2.06-.94-2.06-.94-.94-2.06-.94 2.06-2.06.94zm-11 1L8.5 8.5l.94-2.06 2.06-.94-2.06-.94L8.5 2.5l-.94 2.06-2.06.94zm10 10l.94 2.06.94-2.06 2.06-.94-2.06-.94-.94-2.06-.94 2.06-2.06.94z\"/><path d=\"M17.41 7.96l-1.37-1.37c-.4-.4-.92-.59-1.43-.59-.52 0-1.04.2-1.43.59L10.3 9.45l-7.72 7.72c-.78.78-.78 2.05 0 2.83L4 21.41c.39.39.9.59 1.41.59.51 0 1.02-.2 1.41-.59l7.78-7.78 2.81-2.81c.8-.78.8-2.07 0-2.86zM5.41 20L4 18.59l7.72-7.72 1.47 1.35L5.41 20z\"/>\n",
              "  </svg>\n",
              "      </button>\n",
              "      \n",
              "  <style>\n",
              "    .colab-df-container {\n",
              "      display:flex;\n",
              "      flex-wrap:wrap;\n",
              "      gap: 12px;\n",
              "    }\n",
              "\n",
              "    .colab-df-convert {\n",
              "      background-color: #E8F0FE;\n",
              "      border: none;\n",
              "      border-radius: 50%;\n",
              "      cursor: pointer;\n",
              "      display: none;\n",
              "      fill: #1967D2;\n",
              "      height: 32px;\n",
              "      padding: 0 0 0 0;\n",
              "      width: 32px;\n",
              "    }\n",
              "\n",
              "    .colab-df-convert:hover {\n",
              "      background-color: #E2EBFA;\n",
              "      box-shadow: 0px 1px 2px rgba(60, 64, 67, 0.3), 0px 1px 3px 1px rgba(60, 64, 67, 0.15);\n",
              "      fill: #174EA6;\n",
              "    }\n",
              "\n",
              "    [theme=dark] .colab-df-convert {\n",
              "      background-color: #3B4455;\n",
              "      fill: #D2E3FC;\n",
              "    }\n",
              "\n",
              "    [theme=dark] .colab-df-convert:hover {\n",
              "      background-color: #434B5C;\n",
              "      box-shadow: 0px 1px 3px 1px rgba(0, 0, 0, 0.15);\n",
              "      filter: drop-shadow(0px 1px 2px rgba(0, 0, 0, 0.3));\n",
              "      fill: #FFFFFF;\n",
              "    }\n",
              "  </style>\n",
              "\n",
              "      <script>\n",
              "        const buttonEl =\n",
              "          document.querySelector('#df-4bf7c51c-a928-4d8e-857d-93ea6ae92ba9 button.colab-df-convert');\n",
              "        buttonEl.style.display =\n",
              "          google.colab.kernel.accessAllowed ? 'block' : 'none';\n",
              "\n",
              "        async function convertToInteractive(key) {\n",
              "          const element = document.querySelector('#df-4bf7c51c-a928-4d8e-857d-93ea6ae92ba9');\n",
              "          const dataTable =\n",
              "            await google.colab.kernel.invokeFunction('convertToInteractive',\n",
              "                                                     [key], {});\n",
              "          if (!dataTable) return;\n",
              "\n",
              "          const docLinkHtml = 'Like what you see? Visit the ' +\n",
              "            '<a target=\"_blank\" href=https://colab.research.google.com/notebooks/data_table.ipynb>data table notebook</a>'\n",
              "            + ' to learn more about interactive tables.';\n",
              "          element.innerHTML = '';\n",
              "          dataTable['output_type'] = 'display_data';\n",
              "          await google.colab.output.renderOutput(dataTable, element);\n",
              "          const docLink = document.createElement('div');\n",
              "          docLink.innerHTML = docLinkHtml;\n",
              "          element.appendChild(docLink);\n",
              "        }\n",
              "      </script>\n",
              "    </div>\n",
              "  </div>\n",
              "  "
            ]
          },
          "metadata": {},
          "execution_count": 58
        }
      ]
    },
    {
      "cell_type": "markdown",
      "metadata": {
        "id": "U68h1EzH6ne7"
      },
      "source": [
        "Note: The above list \"wrong\" contains the indices of movies_dataset IDs that are in date format instead of integer"
      ]
    },
    {
      "cell_type": "code",
      "execution_count": null,
      "metadata": {
        "id": "_opuenaM7MHN"
      },
      "outputs": [],
      "source": [
        "# Converting JSON to List \n",
        "credits_dataset['cast'] = credits_dataset['cast'].fillna('[]').apply(literal_eval).apply(lambda x: [i['name'] for i in x] if isinstance(x, list) else [])\n",
        "movies_dataset['production_companies'] = movies_dataset['production_companies'].fillna('[]').apply(literal_eval).apply(lambda x: [i['name'] for i in x] if isinstance(x, list) else [])\n",
        "movies_dataset['genres'] = movies_dataset['genres'].fillna('[]').apply(literal_eval).apply(lambda x: [i['name'] for i in x] if isinstance(x, list) else [])\n",
        "keywords_dataset['keywords'] = keywords_dataset['keywords'].fillna('[]').apply(literal_eval).apply(lambda x: [i['name'] for i in x] if isinstance(x, list) else [])\n",
        "movies_dataset['production_countries'] = movies_dataset['production_countries'].fillna('[]').apply(literal_eval).apply(lambda x: [i['name'] for i in x] if isinstance(x, list) else [])\n"
      ]
    },
    {
      "cell_type": "code",
      "execution_count": null,
      "metadata": {
        "id": "ZJ1HZkPp0gnf"
      },
      "outputs": [],
      "source": [
        "# converting ID column type object to integer\n",
        "movies_dataset['id'].dtypes\n",
        "movies_dataset['id'] = movies_dataset['id'].astype(str).astype(int)"
      ]
    },
    {
      "cell_type": "code",
      "execution_count": null,
      "metadata": {
        "id": "mslhOhcnvZGR",
        "colab": {
          "base_uri": "https://localhost:8080/"
        },
        "outputId": "4caf0e06-98ad-40f9-a998-8081bc0fae11"
      },
      "outputs": [
        {
          "output_type": "execute_result",
          "data": {
            "text/plain": [
              "                        genres   id original_language original_title  \\\n",
              "0  [Animation, Comedy, Family]  862                en      Toy Story   \n",
              "\n",
              "                                            overview popularity  \\\n",
              "0  Led by Woody, Andy's toys live happily in his ...  21.946943   \n",
              "\n",
              "        production_companies        production_countries release_date  \\\n",
              "0  [Pixar Animation Studios]  [United States of America]   1995-10-30   \n",
              "\n",
              "   runtime tagline      title  vote_average  vote_count  \\\n",
              "0     81.0     NaN  Toy Story           7.7      5415.0   \n",
              "\n",
              "                                                cast         Director  \\\n",
              "0  [Tom Hanks, Tim Allen, Don Rickles, Jim Varney...  [John Lasseter]   \n",
              "\n",
              "                                            keywords  \n",
              "0  [jealousy, toy, boy, friendship, friends, riva...  "
            ],
            "text/html": [
              "\n",
              "  <div id=\"df-f510393e-13fc-4fd7-98b3-fea5dcf42d5a\">\n",
              "    <div class=\"colab-df-container\">\n",
              "      <div>\n",
              "<style scoped>\n",
              "    .dataframe tbody tr th:only-of-type {\n",
              "        vertical-align: middle;\n",
              "    }\n",
              "\n",
              "    .dataframe tbody tr th {\n",
              "        vertical-align: top;\n",
              "    }\n",
              "\n",
              "    .dataframe thead th {\n",
              "        text-align: right;\n",
              "    }\n",
              "</style>\n",
              "<table border=\"1\" class=\"dataframe\">\n",
              "  <thead>\n",
              "    <tr style=\"text-align: right;\">\n",
              "      <th></th>\n",
              "      <th>genres</th>\n",
              "      <th>id</th>\n",
              "      <th>original_language</th>\n",
              "      <th>original_title</th>\n",
              "      <th>overview</th>\n",
              "      <th>popularity</th>\n",
              "      <th>production_companies</th>\n",
              "      <th>production_countries</th>\n",
              "      <th>release_date</th>\n",
              "      <th>runtime</th>\n",
              "      <th>tagline</th>\n",
              "      <th>title</th>\n",
              "      <th>vote_average</th>\n",
              "      <th>vote_count</th>\n",
              "      <th>cast</th>\n",
              "      <th>Director</th>\n",
              "      <th>keywords</th>\n",
              "    </tr>\n",
              "  </thead>\n",
              "  <tbody>\n",
              "    <tr>\n",
              "      <th>0</th>\n",
              "      <td>[Animation, Comedy, Family]</td>\n",
              "      <td>862</td>\n",
              "      <td>en</td>\n",
              "      <td>Toy Story</td>\n",
              "      <td>Led by Woody, Andy's toys live happily in his ...</td>\n",
              "      <td>21.946943</td>\n",
              "      <td>[Pixar Animation Studios]</td>\n",
              "      <td>[United States of America]</td>\n",
              "      <td>1995-10-30</td>\n",
              "      <td>81.0</td>\n",
              "      <td>NaN</td>\n",
              "      <td>Toy Story</td>\n",
              "      <td>7.7</td>\n",
              "      <td>5415.0</td>\n",
              "      <td>[Tom Hanks, Tim Allen, Don Rickles, Jim Varney...</td>\n",
              "      <td>[John Lasseter]</td>\n",
              "      <td>[jealousy, toy, boy, friendship, friends, riva...</td>\n",
              "    </tr>\n",
              "  </tbody>\n",
              "</table>\n",
              "</div>\n",
              "      <button class=\"colab-df-convert\" onclick=\"convertToInteractive('df-f510393e-13fc-4fd7-98b3-fea5dcf42d5a')\"\n",
              "              title=\"Convert this dataframe to an interactive table.\"\n",
              "              style=\"display:none;\">\n",
              "        \n",
              "  <svg xmlns=\"http://www.w3.org/2000/svg\" height=\"24px\"viewBox=\"0 0 24 24\"\n",
              "       width=\"24px\">\n",
              "    <path d=\"M0 0h24v24H0V0z\" fill=\"none\"/>\n",
              "    <path d=\"M18.56 5.44l.94 2.06.94-2.06 2.06-.94-2.06-.94-.94-2.06-.94 2.06-2.06.94zm-11 1L8.5 8.5l.94-2.06 2.06-.94-2.06-.94L8.5 2.5l-.94 2.06-2.06.94zm10 10l.94 2.06.94-2.06 2.06-.94-2.06-.94-.94-2.06-.94 2.06-2.06.94z\"/><path d=\"M17.41 7.96l-1.37-1.37c-.4-.4-.92-.59-1.43-.59-.52 0-1.04.2-1.43.59L10.3 9.45l-7.72 7.72c-.78.78-.78 2.05 0 2.83L4 21.41c.39.39.9.59 1.41.59.51 0 1.02-.2 1.41-.59l7.78-7.78 2.81-2.81c.8-.78.8-2.07 0-2.86zM5.41 20L4 18.59l7.72-7.72 1.47 1.35L5.41 20z\"/>\n",
              "  </svg>\n",
              "      </button>\n",
              "      \n",
              "  <style>\n",
              "    .colab-df-container {\n",
              "      display:flex;\n",
              "      flex-wrap:wrap;\n",
              "      gap: 12px;\n",
              "    }\n",
              "\n",
              "    .colab-df-convert {\n",
              "      background-color: #E8F0FE;\n",
              "      border: none;\n",
              "      border-radius: 50%;\n",
              "      cursor: pointer;\n",
              "      display: none;\n",
              "      fill: #1967D2;\n",
              "      height: 32px;\n",
              "      padding: 0 0 0 0;\n",
              "      width: 32px;\n",
              "    }\n",
              "\n",
              "    .colab-df-convert:hover {\n",
              "      background-color: #E2EBFA;\n",
              "      box-shadow: 0px 1px 2px rgba(60, 64, 67, 0.3), 0px 1px 3px 1px rgba(60, 64, 67, 0.15);\n",
              "      fill: #174EA6;\n",
              "    }\n",
              "\n",
              "    [theme=dark] .colab-df-convert {\n",
              "      background-color: #3B4455;\n",
              "      fill: #D2E3FC;\n",
              "    }\n",
              "\n",
              "    [theme=dark] .colab-df-convert:hover {\n",
              "      background-color: #434B5C;\n",
              "      box-shadow: 0px 1px 3px 1px rgba(0, 0, 0, 0.15);\n",
              "      filter: drop-shadow(0px 1px 2px rgba(0, 0, 0, 0.3));\n",
              "      fill: #FFFFFF;\n",
              "    }\n",
              "  </style>\n",
              "\n",
              "      <script>\n",
              "        const buttonEl =\n",
              "          document.querySelector('#df-f510393e-13fc-4fd7-98b3-fea5dcf42d5a button.colab-df-convert');\n",
              "        buttonEl.style.display =\n",
              "          google.colab.kernel.accessAllowed ? 'block' : 'none';\n",
              "\n",
              "        async function convertToInteractive(key) {\n",
              "          const element = document.querySelector('#df-f510393e-13fc-4fd7-98b3-fea5dcf42d5a');\n",
              "          const dataTable =\n",
              "            await google.colab.kernel.invokeFunction('convertToInteractive',\n",
              "                                                     [key], {});\n",
              "          if (!dataTable) return;\n",
              "\n",
              "          const docLinkHtml = 'Like what you see? Visit the ' +\n",
              "            '<a target=\"_blank\" href=https://colab.research.google.com/notebooks/data_table.ipynb>data table notebook</a>'\n",
              "            + ' to learn more about interactive tables.';\n",
              "          element.innerHTML = '';\n",
              "          dataTable['output_type'] = 'display_data';\n",
              "          await google.colab.output.renderOutput(dataTable, element);\n",
              "          const docLink = document.createElement('div');\n",
              "          docLink.innerHTML = docLinkHtml;\n",
              "          element.appendChild(docLink);\n",
              "        }\n",
              "      </script>\n",
              "    </div>\n",
              "  </div>\n",
              "  "
            ]
          },
          "metadata": {},
          "execution_count": 61
        }
      ],
      "source": [
        "# Merging all three datasets(credits_dataset,movies_dataset,keywords_dataset) using ID.\n",
        "movies_dataset['id'] = movies_dataset['id'].astype(int)\n",
        "movies = movies_dataset.merge(credits_dataset,on='id',how='left')\n",
        "movies = movies.merge(keywords_dataset,on='id',how='left')\n",
        "movies.head(1)\n"
      ]
    },
    {
      "cell_type": "code",
      "source": [
        "# Removing all the movie rows with less than 6 votes. (Due to insufficient RAM. We Removed values less than 6) \n",
        "zero_votes = []\n",
        "for i,j in zip(movies.index,movies.vote_count):\n",
        "  if j<6:\n",
        "    zero_votes.append(i)\n",
        "\n",
        "zero_votes = list(set(zero_votes))\n",
        "len(zero_votes)\n",
        "movies.drop(zero_votes,axis=0,inplace=True)"
      ],
      "metadata": {
        "id": "sbvBTTPx_dKC"
      },
      "execution_count": null,
      "outputs": []
    },
    {
      "cell_type": "code",
      "source": [
        "# Removing all the movie rows with empty genres list.\n",
        "zero_genres = []\n",
        "for i,j in zip(movies.index,movies.genres):\n",
        "  if len(j) == 0:\n",
        "    zero_genres.append(i)\n",
        "len(zero_genres)"
      ],
      "metadata": {
        "colab": {
          "base_uri": "https://localhost:8080/"
        },
        "id": "eg0PhZ8tBJ9D",
        "outputId": "049d5d55-fe70-4ab5-bcbb-2b755aaacbd5"
      },
      "execution_count": null,
      "outputs": [
        {
          "output_type": "execute_result",
          "data": {
            "text/plain": [
              "313"
            ]
          },
          "metadata": {},
          "execution_count": 63
        }
      ]
    },
    {
      "cell_type": "code",
      "source": [
        "movies.drop(zero_genres,axis=0,inplace=True)"
      ],
      "metadata": {
        "id": "RcY5U7H9BnfP"
      },
      "execution_count": null,
      "outputs": []
    },
    {
      "cell_type": "markdown",
      "metadata": {
        "id": "ZejAE4YKBOq6"
      },
      "source": [
        "# **Working with Genres**"
      ]
    },
    {
      "cell_type": "code",
      "source": [
        "# Function to convert list into binary list.\n",
        "def binary_genres(x):\n",
        "    binaryList = []\n",
        "    for genre in genre_list:\n",
        "        if genre in x:\n",
        "            binaryList.append(1)\n",
        "        else:\n",
        "            binaryList.append(0)\n",
        "    return binaryList\n",
        "def binary_cast(x):\n",
        "    binaryList = []\n",
        "    for cast in lis_cast_bin:\n",
        "        if cast in x:\n",
        "            binaryList.append(1)\n",
        "        else:\n",
        "            binaryList.append(0)\n",
        "    return binaryList\n",
        "def binary_director(x):\n",
        "    binaryList = []\n",
        "    for director in director_list:\n",
        "        if director in x:\n",
        "            binaryList.append(1)\n",
        "        else:\n",
        "            binaryList.append(0)\n",
        "    return binaryList\n",
        "def binary_keywords(x):\n",
        "    binaryList = []\n",
        "    for key in keywords_list_bin:\n",
        "        if key in x:\n",
        "            binaryList.append(1)\n",
        "        else:\n",
        "            binaryList.append(0)\n",
        "    return binaryList"
      ],
      "metadata": {
        "id": "xK1ZNBCnXOoc"
      },
      "execution_count": null,
      "outputs": []
    },
    {
      "cell_type": "code",
      "source": [
        "movie_genre_popularity = pd.DataFrame()\n",
        "movie_genre_popularity['genres'] = movies.genres\n",
        "movie_genre_popularity['original_title'] = movies.original_title\n",
        "movie_genre_popularity['popularity'] = movies.popularity\n",
        "\n",
        "movie_genre_popularity"
      ],
      "metadata": {
        "colab": {
          "base_uri": "https://localhost:8080/"
        },
        "id": "bijzncIC4tR9",
        "outputId": "802e5fb5-5a42-46e6-f4b1-c132890d3460"
      },
      "execution_count": null,
      "outputs": [
        {
          "output_type": "execute_result",
          "data": {
            "text/plain": [
              "                             genres                  original_title popularity\n",
              "0       [Animation, Comedy, Family]                       Toy Story  21.946943\n",
              "1      [Adventure, Fantasy, Family]                         Jumanji  17.015539\n",
              "2                 [Romance, Comedy]                Grumpier Old Men    11.7129\n",
              "3          [Comedy, Drama, Romance]               Waiting to Exhale   3.859495\n",
              "4                          [Comedy]     Father of the Bride Part II   8.387519\n",
              "...                             ...                             ...        ...\n",
              "46614             [Comedy, Fantasy]  Nouvelles luttes extravagantes   0.225432\n",
              "46616      [Crime, Drama, Thriller]                             Maa   1.559596\n",
              "46619   [Horror, Mystery, Thriller]                House of Horrors   0.222814\n",
              "46623      [Drama, Action, Romance]                      Robin Hood   5.683753\n",
              "46626     [Action, Drama, Thriller]                        Betrayal   0.903007\n",
              "\n",
              "[29082 rows x 3 columns]"
            ],
            "text/html": [
              "\n",
              "  <div id=\"df-f85f38d6-e873-4ac1-8ead-aa6b83bf7cb8\">\n",
              "    <div class=\"colab-df-container\">\n",
              "      <div>\n",
              "<style scoped>\n",
              "    .dataframe tbody tr th:only-of-type {\n",
              "        vertical-align: middle;\n",
              "    }\n",
              "\n",
              "    .dataframe tbody tr th {\n",
              "        vertical-align: top;\n",
              "    }\n",
              "\n",
              "    .dataframe thead th {\n",
              "        text-align: right;\n",
              "    }\n",
              "</style>\n",
              "<table border=\"1\" class=\"dataframe\">\n",
              "  <thead>\n",
              "    <tr style=\"text-align: right;\">\n",
              "      <th></th>\n",
              "      <th>genres</th>\n",
              "      <th>original_title</th>\n",
              "      <th>popularity</th>\n",
              "    </tr>\n",
              "  </thead>\n",
              "  <tbody>\n",
              "    <tr>\n",
              "      <th>0</th>\n",
              "      <td>[Animation, Comedy, Family]</td>\n",
              "      <td>Toy Story</td>\n",
              "      <td>21.946943</td>\n",
              "    </tr>\n",
              "    <tr>\n",
              "      <th>1</th>\n",
              "      <td>[Adventure, Fantasy, Family]</td>\n",
              "      <td>Jumanji</td>\n",
              "      <td>17.015539</td>\n",
              "    </tr>\n",
              "    <tr>\n",
              "      <th>2</th>\n",
              "      <td>[Romance, Comedy]</td>\n",
              "      <td>Grumpier Old Men</td>\n",
              "      <td>11.7129</td>\n",
              "    </tr>\n",
              "    <tr>\n",
              "      <th>3</th>\n",
              "      <td>[Comedy, Drama, Romance]</td>\n",
              "      <td>Waiting to Exhale</td>\n",
              "      <td>3.859495</td>\n",
              "    </tr>\n",
              "    <tr>\n",
              "      <th>4</th>\n",
              "      <td>[Comedy]</td>\n",
              "      <td>Father of the Bride Part II</td>\n",
              "      <td>8.387519</td>\n",
              "    </tr>\n",
              "    <tr>\n",
              "      <th>...</th>\n",
              "      <td>...</td>\n",
              "      <td>...</td>\n",
              "      <td>...</td>\n",
              "    </tr>\n",
              "    <tr>\n",
              "      <th>46614</th>\n",
              "      <td>[Comedy, Fantasy]</td>\n",
              "      <td>Nouvelles luttes extravagantes</td>\n",
              "      <td>0.225432</td>\n",
              "    </tr>\n",
              "    <tr>\n",
              "      <th>46616</th>\n",
              "      <td>[Crime, Drama, Thriller]</td>\n",
              "      <td>Maa</td>\n",
              "      <td>1.559596</td>\n",
              "    </tr>\n",
              "    <tr>\n",
              "      <th>46619</th>\n",
              "      <td>[Horror, Mystery, Thriller]</td>\n",
              "      <td>House of Horrors</td>\n",
              "      <td>0.222814</td>\n",
              "    </tr>\n",
              "    <tr>\n",
              "      <th>46623</th>\n",
              "      <td>[Drama, Action, Romance]</td>\n",
              "      <td>Robin Hood</td>\n",
              "      <td>5.683753</td>\n",
              "    </tr>\n",
              "    <tr>\n",
              "      <th>46626</th>\n",
              "      <td>[Action, Drama, Thriller]</td>\n",
              "      <td>Betrayal</td>\n",
              "      <td>0.903007</td>\n",
              "    </tr>\n",
              "  </tbody>\n",
              "</table>\n",
              "<p>29082 rows × 3 columns</p>\n",
              "</div>\n",
              "      <button class=\"colab-df-convert\" onclick=\"convertToInteractive('df-f85f38d6-e873-4ac1-8ead-aa6b83bf7cb8')\"\n",
              "              title=\"Convert this dataframe to an interactive table.\"\n",
              "              style=\"display:none;\">\n",
              "        \n",
              "  <svg xmlns=\"http://www.w3.org/2000/svg\" height=\"24px\"viewBox=\"0 0 24 24\"\n",
              "       width=\"24px\">\n",
              "    <path d=\"M0 0h24v24H0V0z\" fill=\"none\"/>\n",
              "    <path d=\"M18.56 5.44l.94 2.06.94-2.06 2.06-.94-2.06-.94-.94-2.06-.94 2.06-2.06.94zm-11 1L8.5 8.5l.94-2.06 2.06-.94-2.06-.94L8.5 2.5l-.94 2.06-2.06.94zm10 10l.94 2.06.94-2.06 2.06-.94-2.06-.94-.94-2.06-.94 2.06-2.06.94z\"/><path d=\"M17.41 7.96l-1.37-1.37c-.4-.4-.92-.59-1.43-.59-.52 0-1.04.2-1.43.59L10.3 9.45l-7.72 7.72c-.78.78-.78 2.05 0 2.83L4 21.41c.39.39.9.59 1.41.59.51 0 1.02-.2 1.41-.59l7.78-7.78 2.81-2.81c.8-.78.8-2.07 0-2.86zM5.41 20L4 18.59l7.72-7.72 1.47 1.35L5.41 20z\"/>\n",
              "  </svg>\n",
              "      </button>\n",
              "      \n",
              "  <style>\n",
              "    .colab-df-container {\n",
              "      display:flex;\n",
              "      flex-wrap:wrap;\n",
              "      gap: 12px;\n",
              "    }\n",
              "\n",
              "    .colab-df-convert {\n",
              "      background-color: #E8F0FE;\n",
              "      border: none;\n",
              "      border-radius: 50%;\n",
              "      cursor: pointer;\n",
              "      display: none;\n",
              "      fill: #1967D2;\n",
              "      height: 32px;\n",
              "      padding: 0 0 0 0;\n",
              "      width: 32px;\n",
              "    }\n",
              "\n",
              "    .colab-df-convert:hover {\n",
              "      background-color: #E2EBFA;\n",
              "      box-shadow: 0px 1px 2px rgba(60, 64, 67, 0.3), 0px 1px 3px 1px rgba(60, 64, 67, 0.15);\n",
              "      fill: #174EA6;\n",
              "    }\n",
              "\n",
              "    [theme=dark] .colab-df-convert {\n",
              "      background-color: #3B4455;\n",
              "      fill: #D2E3FC;\n",
              "    }\n",
              "\n",
              "    [theme=dark] .colab-df-convert:hover {\n",
              "      background-color: #434B5C;\n",
              "      box-shadow: 0px 1px 3px 1px rgba(0, 0, 0, 0.15);\n",
              "      filter: drop-shadow(0px 1px 2px rgba(0, 0, 0, 0.3));\n",
              "      fill: #FFFFFF;\n",
              "    }\n",
              "  </style>\n",
              "\n",
              "      <script>\n",
              "        const buttonEl =\n",
              "          document.querySelector('#df-f85f38d6-e873-4ac1-8ead-aa6b83bf7cb8 button.colab-df-convert');\n",
              "        buttonEl.style.display =\n",
              "          google.colab.kernel.accessAllowed ? 'block' : 'none';\n",
              "\n",
              "        async function convertToInteractive(key) {\n",
              "          const element = document.querySelector('#df-f85f38d6-e873-4ac1-8ead-aa6b83bf7cb8');\n",
              "          const dataTable =\n",
              "            await google.colab.kernel.invokeFunction('convertToInteractive',\n",
              "                                                     [key], {});\n",
              "          if (!dataTable) return;\n",
              "\n",
              "          const docLinkHtml = 'Like what you see? Visit the ' +\n",
              "            '<a target=\"_blank\" href=https://colab.research.google.com/notebooks/data_table.ipynb>data table notebook</a>'\n",
              "            + ' to learn more about interactive tables.';\n",
              "          element.innerHTML = '';\n",
              "          dataTable['output_type'] = 'display_data';\n",
              "          await google.colab.output.renderOutput(dataTable, element);\n",
              "          const docLink = document.createElement('div');\n",
              "          docLink.innerHTML = docLinkHtml;\n",
              "          element.appendChild(docLink);\n",
              "        }\n",
              "      </script>\n",
              "    </div>\n",
              "  </div>\n",
              "  "
            ]
          },
          "metadata": {},
          "execution_count": 66
        }
      ]
    },
    {
      "cell_type": "code",
      "source": [
        "movie_genre_popularity['popularity'].dtype"
      ],
      "metadata": {
        "colab": {
          "base_uri": "https://localhost:8080/"
        },
        "id": "M58RnQYZ6bMq",
        "outputId": "fd33067b-1c4a-4117-dc4a-b62cc64bd9b3"
      },
      "execution_count": null,
      "outputs": [
        {
          "output_type": "execute_result",
          "data": {
            "text/plain": [
              "dtype('O')"
            ]
          },
          "metadata": {},
          "execution_count": 67
        }
      ]
    },
    {
      "cell_type": "code",
      "source": [
        "movie_genre_popularity['popularity'] = movie_genre_popularity['popularity'].astype(float)\n",
        "movie_genre_popularity.sort_values('popularity',ascending=False,inplace=True)\n",
        "movie_genre_popularity"
      ],
      "metadata": {
        "id": "xrlOhoP_74Mi",
        "colab": {
          "base_uri": "https://localhost:8080/",
          "height": 537
        },
        "outputId": "ec15d280-3a71-4d49-a54a-59acc9155ca5"
      },
      "execution_count": null,
      "outputs": [
        {
          "output_type": "execute_result",
          "data": {
            "text/plain": [
              "                                               genres        original_title  \\\n",
              "30876          [Family, Animation, Adventure, Comedy]               Minions   \n",
              "33535                    [Action, Adventure, Fantasy]          Wonder Woman   \n",
              "43376                      [Family, Fantasy, Romance]  Beauty and the Beast   \n",
              "44798                                 [Action, Crime]           Baby Driver   \n",
              "24603  [Adventure, Family, Animation, Action, Comedy]            Big Hero 6   \n",
              "...                                               ...                   ...   \n",
              "36139                                        [Horror]            Slime City   \n",
              "19845                       [Action, Thriller, Drama]          Midnight Man   \n",
              "29676                    [Animation, Science Fiction]      マルドゥック・スクランブル 排気   \n",
              "35970     [TV Movie, Action, Horror, Science Fiction]      Avalanche Sharks   \n",
              "35971     [TV Movie, Action, Horror, Science Fiction]      Avalanche Sharks   \n",
              "\n",
              "       popularity  \n",
              "30876  547.488298  \n",
              "33535  294.337037  \n",
              "43376  287.253654  \n",
              "44798  228.032744  \n",
              "24603  213.849907  \n",
              "...           ...  \n",
              "36139    0.000001  \n",
              "19845         NaN  \n",
              "29676         NaN  \n",
              "35970         NaN  \n",
              "35971         NaN  \n",
              "\n",
              "[29082 rows x 3 columns]"
            ],
            "text/html": [
              "\n",
              "  <div id=\"df-f025af50-0951-474a-aba9-f0add25dd7b5\">\n",
              "    <div class=\"colab-df-container\">\n",
              "      <div>\n",
              "<style scoped>\n",
              "    .dataframe tbody tr th:only-of-type {\n",
              "        vertical-align: middle;\n",
              "    }\n",
              "\n",
              "    .dataframe tbody tr th {\n",
              "        vertical-align: top;\n",
              "    }\n",
              "\n",
              "    .dataframe thead th {\n",
              "        text-align: right;\n",
              "    }\n",
              "</style>\n",
              "<table border=\"1\" class=\"dataframe\">\n",
              "  <thead>\n",
              "    <tr style=\"text-align: right;\">\n",
              "      <th></th>\n",
              "      <th>genres</th>\n",
              "      <th>original_title</th>\n",
              "      <th>popularity</th>\n",
              "    </tr>\n",
              "  </thead>\n",
              "  <tbody>\n",
              "    <tr>\n",
              "      <th>30876</th>\n",
              "      <td>[Family, Animation, Adventure, Comedy]</td>\n",
              "      <td>Minions</td>\n",
              "      <td>547.488298</td>\n",
              "    </tr>\n",
              "    <tr>\n",
              "      <th>33535</th>\n",
              "      <td>[Action, Adventure, Fantasy]</td>\n",
              "      <td>Wonder Woman</td>\n",
              "      <td>294.337037</td>\n",
              "    </tr>\n",
              "    <tr>\n",
              "      <th>43376</th>\n",
              "      <td>[Family, Fantasy, Romance]</td>\n",
              "      <td>Beauty and the Beast</td>\n",
              "      <td>287.253654</td>\n",
              "    </tr>\n",
              "    <tr>\n",
              "      <th>44798</th>\n",
              "      <td>[Action, Crime]</td>\n",
              "      <td>Baby Driver</td>\n",
              "      <td>228.032744</td>\n",
              "    </tr>\n",
              "    <tr>\n",
              "      <th>24603</th>\n",
              "      <td>[Adventure, Family, Animation, Action, Comedy]</td>\n",
              "      <td>Big Hero 6</td>\n",
              "      <td>213.849907</td>\n",
              "    </tr>\n",
              "    <tr>\n",
              "      <th>...</th>\n",
              "      <td>...</td>\n",
              "      <td>...</td>\n",
              "      <td>...</td>\n",
              "    </tr>\n",
              "    <tr>\n",
              "      <th>36139</th>\n",
              "      <td>[Horror]</td>\n",
              "      <td>Slime City</td>\n",
              "      <td>0.000001</td>\n",
              "    </tr>\n",
              "    <tr>\n",
              "      <th>19845</th>\n",
              "      <td>[Action, Thriller, Drama]</td>\n",
              "      <td>Midnight Man</td>\n",
              "      <td>NaN</td>\n",
              "    </tr>\n",
              "    <tr>\n",
              "      <th>29676</th>\n",
              "      <td>[Animation, Science Fiction]</td>\n",
              "      <td>マルドゥック・スクランブル 排気</td>\n",
              "      <td>NaN</td>\n",
              "    </tr>\n",
              "    <tr>\n",
              "      <th>35970</th>\n",
              "      <td>[TV Movie, Action, Horror, Science Fiction]</td>\n",
              "      <td>Avalanche Sharks</td>\n",
              "      <td>NaN</td>\n",
              "    </tr>\n",
              "    <tr>\n",
              "      <th>35971</th>\n",
              "      <td>[TV Movie, Action, Horror, Science Fiction]</td>\n",
              "      <td>Avalanche Sharks</td>\n",
              "      <td>NaN</td>\n",
              "    </tr>\n",
              "  </tbody>\n",
              "</table>\n",
              "<p>29082 rows × 3 columns</p>\n",
              "</div>\n",
              "      <button class=\"colab-df-convert\" onclick=\"convertToInteractive('df-f025af50-0951-474a-aba9-f0add25dd7b5')\"\n",
              "              title=\"Convert this dataframe to an interactive table.\"\n",
              "              style=\"display:none;\">\n",
              "        \n",
              "  <svg xmlns=\"http://www.w3.org/2000/svg\" height=\"24px\"viewBox=\"0 0 24 24\"\n",
              "       width=\"24px\">\n",
              "    <path d=\"M0 0h24v24H0V0z\" fill=\"none\"/>\n",
              "    <path d=\"M18.56 5.44l.94 2.06.94-2.06 2.06-.94-2.06-.94-.94-2.06-.94 2.06-2.06.94zm-11 1L8.5 8.5l.94-2.06 2.06-.94-2.06-.94L8.5 2.5l-.94 2.06-2.06.94zm10 10l.94 2.06.94-2.06 2.06-.94-2.06-.94-.94-2.06-.94 2.06-2.06.94z\"/><path d=\"M17.41 7.96l-1.37-1.37c-.4-.4-.92-.59-1.43-.59-.52 0-1.04.2-1.43.59L10.3 9.45l-7.72 7.72c-.78.78-.78 2.05 0 2.83L4 21.41c.39.39.9.59 1.41.59.51 0 1.02-.2 1.41-.59l7.78-7.78 2.81-2.81c.8-.78.8-2.07 0-2.86zM5.41 20L4 18.59l7.72-7.72 1.47 1.35L5.41 20z\"/>\n",
              "  </svg>\n",
              "      </button>\n",
              "      \n",
              "  <style>\n",
              "    .colab-df-container {\n",
              "      display:flex;\n",
              "      flex-wrap:wrap;\n",
              "      gap: 12px;\n",
              "    }\n",
              "\n",
              "    .colab-df-convert {\n",
              "      background-color: #E8F0FE;\n",
              "      border: none;\n",
              "      border-radius: 50%;\n",
              "      cursor: pointer;\n",
              "      display: none;\n",
              "      fill: #1967D2;\n",
              "      height: 32px;\n",
              "      padding: 0 0 0 0;\n",
              "      width: 32px;\n",
              "    }\n",
              "\n",
              "    .colab-df-convert:hover {\n",
              "      background-color: #E2EBFA;\n",
              "      box-shadow: 0px 1px 2px rgba(60, 64, 67, 0.3), 0px 1px 3px 1px rgba(60, 64, 67, 0.15);\n",
              "      fill: #174EA6;\n",
              "    }\n",
              "\n",
              "    [theme=dark] .colab-df-convert {\n",
              "      background-color: #3B4455;\n",
              "      fill: #D2E3FC;\n",
              "    }\n",
              "\n",
              "    [theme=dark] .colab-df-convert:hover {\n",
              "      background-color: #434B5C;\n",
              "      box-shadow: 0px 1px 3px 1px rgba(0, 0, 0, 0.15);\n",
              "      filter: drop-shadow(0px 1px 2px rgba(0, 0, 0, 0.3));\n",
              "      fill: #FFFFFF;\n",
              "    }\n",
              "  </style>\n",
              "\n",
              "      <script>\n",
              "        const buttonEl =\n",
              "          document.querySelector('#df-f025af50-0951-474a-aba9-f0add25dd7b5 button.colab-df-convert');\n",
              "        buttonEl.style.display =\n",
              "          google.colab.kernel.accessAllowed ? 'block' : 'none';\n",
              "\n",
              "        async function convertToInteractive(key) {\n",
              "          const element = document.querySelector('#df-f025af50-0951-474a-aba9-f0add25dd7b5');\n",
              "          const dataTable =\n",
              "            await google.colab.kernel.invokeFunction('convertToInteractive',\n",
              "                                                     [key], {});\n",
              "          if (!dataTable) return;\n",
              "\n",
              "          const docLinkHtml = 'Like what you see? Visit the ' +\n",
              "            '<a target=\"_blank\" href=https://colab.research.google.com/notebooks/data_table.ipynb>data table notebook</a>'\n",
              "            + ' to learn more about interactive tables.';\n",
              "          element.innerHTML = '';\n",
              "          dataTable['output_type'] = 'display_data';\n",
              "          await google.colab.output.renderOutput(dataTable, element);\n",
              "          const docLink = document.createElement('div');\n",
              "          docLink.innerHTML = docLinkHtml;\n",
              "          element.appendChild(docLink);\n",
              "        }\n",
              "      </script>\n",
              "    </div>\n",
              "  </div>\n",
              "  "
            ]
          },
          "metadata": {},
          "execution_count": 68
        }
      ]
    },
    {
      "cell_type": "code",
      "source": [
        "movie_genre_popularity_romcom = movie_genre_popularity"
      ],
      "metadata": {
        "id": "Yr5LvXAW9YQa"
      },
      "execution_count": null,
      "outputs": []
    },
    {
      "cell_type": "code",
      "source": [
        "# Filtering top 15 rom com movies.\n",
        "c = 0\n",
        "ind_romcom = []\n",
        "for i,j in zip(movie_genre_popularity_romcom['genres'],movie_genre_popularity_romcom.index):\n",
        "  if \"Romance\" in i and \"Comedy\" in i :\n",
        "    ind_romcom.append(j)\n",
        "    c+=1\n",
        "  if c==15:\n",
        "    break\n",
        "# ind_romcom "
      ],
      "metadata": {
        "id": "TsswJFx5_m8R"
      },
      "execution_count": null,
      "outputs": []
    },
    {
      "cell_type": "code",
      "source": [
        "movie_genre_popularity_romcom = movie_genre_popularity_romcom.loc[ind_romcom]\n",
        "movie_genre_popularity_romcom"
      ],
      "metadata": {
        "colab": {
          "base_uri": "https://localhost:8080/",
          "height": 598
        },
        "id": "b1KtHqUkDnxH",
        "outputId": "ee59a7bb-204c-4a1f-cc41-daf14f70ef0f"
      },
      "execution_count": null,
      "outputs": [
        {
          "output_type": "execute_result",
          "data": {
            "text/plain": [
              "                                                  genres  \\\n",
              "351                             [Comedy, Drama, Romance]   \n",
              "10357                           [Comedy, Drama, Romance]   \n",
              "43359                           [Comedy, Drama, Romance]   \n",
              "46600               [Family, Animation, Romance, Comedy]   \n",
              "5934                                   [Comedy, Romance]   \n",
              "42036                    [Comedy, Drama, Music, Romance]   \n",
              "2606                                   [Comedy, Romance]   \n",
              "1797                [Action, Adventure, Comedy, Romance]   \n",
              "1195                            [Comedy, Drama, Romance]   \n",
              "43958                      [Romance, War, Comedy, Drama]   \n",
              "39943                [Adventure, Comedy, Drama, Romance]   \n",
              "1659                            [Comedy, Crime, Romance]   \n",
              "13958                           [Comedy, Drama, Romance]   \n",
              "581    [Animation, Family, Comedy, Adventure, Fantasy...   \n",
              "233                             [Comedy, Drama, Romance]   \n",
              "\n",
              "                    original_title  popularity  \n",
              "351                   Forrest Gump   48.307194  \n",
              "10357  Dilwale Dulhania Le Jayenge   34.457024  \n",
              "43359                 The Big Sick   23.424794  \n",
              "46600               In a Heartbeat   20.821780  \n",
              "5934              The Woman in Red   19.856025  \n",
              "42036                   La La Land   19.681686  \n",
              "2606                  American Pie   18.344227  \n",
              "1797         Six Days Seven Nights   18.324219  \n",
              "1195                    Annie Hall   18.146043  \n",
              "43958                 Their Finest   17.958512  \n",
              "39943            Captain Fantastic   16.519276  \n",
              "1659                  Jackie Brown   16.415498  \n",
              "13958         (500) Days of Summer   16.376657  \n",
              "581                        Aladdin   16.357419  \n",
              "233                   Forget Paris   16.236745  "
            ],
            "text/html": [
              "\n",
              "  <div id=\"df-fb542d56-f2d4-4373-9de4-0984fa6fb865\">\n",
              "    <div class=\"colab-df-container\">\n",
              "      <div>\n",
              "<style scoped>\n",
              "    .dataframe tbody tr th:only-of-type {\n",
              "        vertical-align: middle;\n",
              "    }\n",
              "\n",
              "    .dataframe tbody tr th {\n",
              "        vertical-align: top;\n",
              "    }\n",
              "\n",
              "    .dataframe thead th {\n",
              "        text-align: right;\n",
              "    }\n",
              "</style>\n",
              "<table border=\"1\" class=\"dataframe\">\n",
              "  <thead>\n",
              "    <tr style=\"text-align: right;\">\n",
              "      <th></th>\n",
              "      <th>genres</th>\n",
              "      <th>original_title</th>\n",
              "      <th>popularity</th>\n",
              "    </tr>\n",
              "  </thead>\n",
              "  <tbody>\n",
              "    <tr>\n",
              "      <th>351</th>\n",
              "      <td>[Comedy, Drama, Romance]</td>\n",
              "      <td>Forrest Gump</td>\n",
              "      <td>48.307194</td>\n",
              "    </tr>\n",
              "    <tr>\n",
              "      <th>10357</th>\n",
              "      <td>[Comedy, Drama, Romance]</td>\n",
              "      <td>Dilwale Dulhania Le Jayenge</td>\n",
              "      <td>34.457024</td>\n",
              "    </tr>\n",
              "    <tr>\n",
              "      <th>43359</th>\n",
              "      <td>[Comedy, Drama, Romance]</td>\n",
              "      <td>The Big Sick</td>\n",
              "      <td>23.424794</td>\n",
              "    </tr>\n",
              "    <tr>\n",
              "      <th>46600</th>\n",
              "      <td>[Family, Animation, Romance, Comedy]</td>\n",
              "      <td>In a Heartbeat</td>\n",
              "      <td>20.821780</td>\n",
              "    </tr>\n",
              "    <tr>\n",
              "      <th>5934</th>\n",
              "      <td>[Comedy, Romance]</td>\n",
              "      <td>The Woman in Red</td>\n",
              "      <td>19.856025</td>\n",
              "    </tr>\n",
              "    <tr>\n",
              "      <th>42036</th>\n",
              "      <td>[Comedy, Drama, Music, Romance]</td>\n",
              "      <td>La La Land</td>\n",
              "      <td>19.681686</td>\n",
              "    </tr>\n",
              "    <tr>\n",
              "      <th>2606</th>\n",
              "      <td>[Comedy, Romance]</td>\n",
              "      <td>American Pie</td>\n",
              "      <td>18.344227</td>\n",
              "    </tr>\n",
              "    <tr>\n",
              "      <th>1797</th>\n",
              "      <td>[Action, Adventure, Comedy, Romance]</td>\n",
              "      <td>Six Days Seven Nights</td>\n",
              "      <td>18.324219</td>\n",
              "    </tr>\n",
              "    <tr>\n",
              "      <th>1195</th>\n",
              "      <td>[Comedy, Drama, Romance]</td>\n",
              "      <td>Annie Hall</td>\n",
              "      <td>18.146043</td>\n",
              "    </tr>\n",
              "    <tr>\n",
              "      <th>43958</th>\n",
              "      <td>[Romance, War, Comedy, Drama]</td>\n",
              "      <td>Their Finest</td>\n",
              "      <td>17.958512</td>\n",
              "    </tr>\n",
              "    <tr>\n",
              "      <th>39943</th>\n",
              "      <td>[Adventure, Comedy, Drama, Romance]</td>\n",
              "      <td>Captain Fantastic</td>\n",
              "      <td>16.519276</td>\n",
              "    </tr>\n",
              "    <tr>\n",
              "      <th>1659</th>\n",
              "      <td>[Comedy, Crime, Romance]</td>\n",
              "      <td>Jackie Brown</td>\n",
              "      <td>16.415498</td>\n",
              "    </tr>\n",
              "    <tr>\n",
              "      <th>13958</th>\n",
              "      <td>[Comedy, Drama, Romance]</td>\n",
              "      <td>(500) Days of Summer</td>\n",
              "      <td>16.376657</td>\n",
              "    </tr>\n",
              "    <tr>\n",
              "      <th>581</th>\n",
              "      <td>[Animation, Family, Comedy, Adventure, Fantasy...</td>\n",
              "      <td>Aladdin</td>\n",
              "      <td>16.357419</td>\n",
              "    </tr>\n",
              "    <tr>\n",
              "      <th>233</th>\n",
              "      <td>[Comedy, Drama, Romance]</td>\n",
              "      <td>Forget Paris</td>\n",
              "      <td>16.236745</td>\n",
              "    </tr>\n",
              "  </tbody>\n",
              "</table>\n",
              "</div>\n",
              "      <button class=\"colab-df-convert\" onclick=\"convertToInteractive('df-fb542d56-f2d4-4373-9de4-0984fa6fb865')\"\n",
              "              title=\"Convert this dataframe to an interactive table.\"\n",
              "              style=\"display:none;\">\n",
              "        \n",
              "  <svg xmlns=\"http://www.w3.org/2000/svg\" height=\"24px\"viewBox=\"0 0 24 24\"\n",
              "       width=\"24px\">\n",
              "    <path d=\"M0 0h24v24H0V0z\" fill=\"none\"/>\n",
              "    <path d=\"M18.56 5.44l.94 2.06.94-2.06 2.06-.94-2.06-.94-.94-2.06-.94 2.06-2.06.94zm-11 1L8.5 8.5l.94-2.06 2.06-.94-2.06-.94L8.5 2.5l-.94 2.06-2.06.94zm10 10l.94 2.06.94-2.06 2.06-.94-2.06-.94-.94-2.06-.94 2.06-2.06.94z\"/><path d=\"M17.41 7.96l-1.37-1.37c-.4-.4-.92-.59-1.43-.59-.52 0-1.04.2-1.43.59L10.3 9.45l-7.72 7.72c-.78.78-.78 2.05 0 2.83L4 21.41c.39.39.9.59 1.41.59.51 0 1.02-.2 1.41-.59l7.78-7.78 2.81-2.81c.8-.78.8-2.07 0-2.86zM5.41 20L4 18.59l7.72-7.72 1.47 1.35L5.41 20z\"/>\n",
              "  </svg>\n",
              "      </button>\n",
              "      \n",
              "  <style>\n",
              "    .colab-df-container {\n",
              "      display:flex;\n",
              "      flex-wrap:wrap;\n",
              "      gap: 12px;\n",
              "    }\n",
              "\n",
              "    .colab-df-convert {\n",
              "      background-color: #E8F0FE;\n",
              "      border: none;\n",
              "      border-radius: 50%;\n",
              "      cursor: pointer;\n",
              "      display: none;\n",
              "      fill: #1967D2;\n",
              "      height: 32px;\n",
              "      padding: 0 0 0 0;\n",
              "      width: 32px;\n",
              "    }\n",
              "\n",
              "    .colab-df-convert:hover {\n",
              "      background-color: #E2EBFA;\n",
              "      box-shadow: 0px 1px 2px rgba(60, 64, 67, 0.3), 0px 1px 3px 1px rgba(60, 64, 67, 0.15);\n",
              "      fill: #174EA6;\n",
              "    }\n",
              "\n",
              "    [theme=dark] .colab-df-convert {\n",
              "      background-color: #3B4455;\n",
              "      fill: #D2E3FC;\n",
              "    }\n",
              "\n",
              "    [theme=dark] .colab-df-convert:hover {\n",
              "      background-color: #434B5C;\n",
              "      box-shadow: 0px 1px 3px 1px rgba(0, 0, 0, 0.15);\n",
              "      filter: drop-shadow(0px 1px 2px rgba(0, 0, 0, 0.3));\n",
              "      fill: #FFFFFF;\n",
              "    }\n",
              "  </style>\n",
              "\n",
              "      <script>\n",
              "        const buttonEl =\n",
              "          document.querySelector('#df-fb542d56-f2d4-4373-9de4-0984fa6fb865 button.colab-df-convert');\n",
              "        buttonEl.style.display =\n",
              "          google.colab.kernel.accessAllowed ? 'block' : 'none';\n",
              "\n",
              "        async function convertToInteractive(key) {\n",
              "          const element = document.querySelector('#df-fb542d56-f2d4-4373-9de4-0984fa6fb865');\n",
              "          const dataTable =\n",
              "            await google.colab.kernel.invokeFunction('convertToInteractive',\n",
              "                                                     [key], {});\n",
              "          if (!dataTable) return;\n",
              "\n",
              "          const docLinkHtml = 'Like what you see? Visit the ' +\n",
              "            '<a target=\"_blank\" href=https://colab.research.google.com/notebooks/data_table.ipynb>data table notebook</a>'\n",
              "            + ' to learn more about interactive tables.';\n",
              "          element.innerHTML = '';\n",
              "          dataTable['output_type'] = 'display_data';\n",
              "          await google.colab.output.renderOutput(dataTable, element);\n",
              "          const docLink = document.createElement('div');\n",
              "          docLink.innerHTML = docLinkHtml;\n",
              "          element.appendChild(docLink);\n",
              "        }\n",
              "      </script>\n",
              "    </div>\n",
              "  </div>\n",
              "  "
            ]
          },
          "metadata": {},
          "execution_count": 71
        }
      ]
    },
    {
      "cell_type": "code",
      "source": [
        "plt.rcParams['figure.figsize'] = [15,10]\n",
        "\n",
        "romcom_graph = sns.barplot( movie_genre_popularity_romcom[\"popularity\"],movie_genre_popularity_romcom.original_title.values, color='lawngreen')\n",
        "romcom_graph.set_xlabel(\"Popularity\", fontsize = 15)\n",
        "romcom_graph.set_ylabel(\"Title\", fontsize = 15)\n",
        "romcom_graph.set_title(\"Top RomCom Movies\", fontsize = 20)\n",
        "plt.show()"
      ],
      "metadata": {
        "colab": {
          "base_uri": "https://localhost:8080/",
          "height": 452
        },
        "id": "FJVSiOa6D1dH",
        "outputId": "2c390274-e446-447c-8358-884bb6d0bb1d"
      },
      "execution_count": null,
      "outputs": [
        {
          "output_type": "stream",
          "name": "stderr",
          "text": [
            "/usr/local/lib/python3.7/dist-packages/seaborn/_decorators.py:43: FutureWarning: Pass the following variables as keyword args: x, y. From version 0.12, the only valid positional argument will be `data`, and passing other arguments without an explicit keyword will result in an error or misinterpretation.\n",
            "  FutureWarning\n"
          ]
        },
        {
          "output_type": "display_data",
          "data": {
            "text/plain": [
              "<Figure size 1080x720 with 1 Axes>"
            ],
            "image/png": "[encoded data removed]"
          },
          "metadata": {
            "needs_background": "light"
          }
        }
      ]
    },
    {
      "cell_type": "markdown",
      "source": [
        "**Graph 1**\n",
        "\n",
        "> The above Bar Chart shows the titles of the **Top Romance Comedy Movies** according to their popularity.\n"
      ],
      "metadata": {
        "id": "Lgu-8YDNPDXy"
      }
    },
    {
      "cell_type": "code",
      "source": [
        "# Filtering top 15 Action Drama movies.\n",
        "movie_genre_popularity_actdrama = movie_genre_popularity\n",
        "c = 0\n",
        "ind_actdrama = []\n",
        "for i,j in zip(movie_genre_popularity_actdrama['genres'],movie_genre_popularity_actdrama.index):\n",
        "  if \"Action\" in i and \"Drama\" in i :\n",
        "    ind_actdrama.append(j)\n",
        "    c+=1\n",
        "  if c==15:\n",
        "    break\n",
        "# ind_actdrama \n",
        "movie_genre_popularity_actdrama = movie_genre_popularity_actdrama.loc[ind_actdrama]"
      ],
      "metadata": {
        "id": "wZPPFcEtZ56u"
      },
      "execution_count": null,
      "outputs": []
    },
    {
      "cell_type": "code",
      "source": [
        "plt.rcParams['figure.figsize'] = [15,10]\n",
        "\n",
        "actdrama_graph = sns.barplot( movie_genre_popularity_actdrama[\"popularity\"],movie_genre_popularity_actdrama.original_title.values, color='lawngreen')\n",
        "actdrama_graph.set_xlabel(\"Popularity\", fontsize = 15)\n",
        "actdrama_graph.set_ylabel(\"Title\", fontsize = 15)\n",
        "actdrama_graph.set_title(\"Top Action Drama Movies\", fontsize = 20)\n",
        "plt.show()"
      ],
      "metadata": {
        "colab": {
          "base_uri": "https://localhost:8080/"
        },
        "id": "LFBFL5O9bNvN",
        "outputId": "d810839b-1c79-49b0-e9e7-c401c26e1652"
      },
      "execution_count": null,
      "outputs": [
        {
          "output_type": "stream",
          "name": "stderr",
          "text": [
            "/usr/local/lib/python3.7/dist-packages/seaborn/_decorators.py:43: FutureWarning: Pass the following variables as keyword args: x, y. From version 0.12, the only valid positional argument will be `data`, and passing other arguments without an explicit keyword will result in an error or misinterpretation.\n",
            "  FutureWarning\n"
          ]
        },
        {
          "output_type": "display_data",
          "data": {
            "text/plain": [
              "<Figure size 1080x720 with 1 Axes>"
            ],
            "image/png": "[encoded data removed]"
          },
          "metadata": {
            "needs_background": "light"
          }
        }
      ]
    },
    {
      "cell_type": "markdown",
      "source": [
        "**Graph 2**\n",
        "\n",
        "> The above Bar Chart shows the titles of the **Top Action Drama Movies** according to their popularity.\n"
      ],
      "metadata": {
        "id": "02nNv0u_Q5mq"
      }
    },
    {
      "cell_type": "code",
      "source": [
        "# Filtering top 15 Thriller Crime movies.\n",
        "movie_genre_popularity_thrillercrime = movie_genre_popularity\n",
        "c = 0\n",
        "ind_crithri = []\n",
        "for i,j in zip(movie_genre_popularity_thrillercrime['genres'],movie_genre_popularity_thrillercrime.index):\n",
        "  if \"Thriller\" in i or \"Crime\" in i :\n",
        "    ind_crithri.append(j)\n",
        "    c+=1\n",
        "  if c==15:\n",
        "    break\n",
        "# ind_crithri \n",
        "movie_genre_popularity_thrillercrime = movie_genre_popularity_thrillercrime.loc[ind_crithri]\n"
      ],
      "metadata": {
        "id": "F2Zsm3xkbpBs"
      },
      "execution_count": null,
      "outputs": []
    },
    {
      "cell_type": "code",
      "source": [
        "plt.rcParams['figure.figsize'] = [15,10]\n",
        "\n",
        "crithri_graph = sns.barplot( movie_genre_popularity_thrillercrime[\"popularity\"],movie_genre_popularity_thrillercrime.original_title.values, color='lawngreen')\n",
        "crithri_graph.set_xlabel(\"Popularity\", fontsize = 15)\n",
        "crithri_graph.set_ylabel(\"Title\", fontsize = 15)\n",
        "crithri_graph.set_title(\"Top Crime and Thriller Movies\", fontsize = 20)\n",
        "plt.show()"
      ],
      "metadata": {
        "colab": {
          "base_uri": "https://localhost:8080/"
        },
        "id": "jb4BmyOlFlQQ",
        "outputId": "3f43ec01-f22c-4095-b35a-14e26179c9b7"
      },
      "execution_count": null,
      "outputs": [
        {
          "output_type": "stream",
          "name": "stderr",
          "text": [
            "/usr/local/lib/python3.7/dist-packages/seaborn/_decorators.py:43: FutureWarning: Pass the following variables as keyword args: x, y. From version 0.12, the only valid positional argument will be `data`, and passing other arguments without an explicit keyword will result in an error or misinterpretation.\n",
            "  FutureWarning\n"
          ]
        },
        {
          "output_type": "display_data",
          "data": {
            "text/plain": [
              "<Figure size 1080x720 with 1 Axes>"
            ],
            "image/png": "[encoded data removed]"
          },
          "metadata": {
            "needs_background": "light"
          }
        }
      ]
    },
    {
      "cell_type": "markdown",
      "source": [
        "**Graph 3**\n",
        "\n",
        "> The above Bar Chart shows the titles of the **Top Crime Thriller Movies** according to their popularity.\n"
      ],
      "metadata": {
        "id": "pla0rW5dRw3y"
      }
    },
    {
      "cell_type": "code",
      "source": [
        "movie_genre_popularity_animation = movie_genre_popularity\n",
        "c = 0\n",
        "ind_ani = []\n",
        "for i,j in zip(movie_genre_popularity_animation['genres'],movie_genre_popularity_animation.index):\n",
        "  if \"Animation\" in i :\n",
        "    ind_ani.append(j)\n",
        "    c+=1\n",
        "  if c==18:\n",
        "    break\n",
        "# ind_ani \n",
        "movie_genre_popularity_animation = movie_genre_popularity_animation.loc[ind_ani]\n",
        "movie_genre_popularity_animation.drop([5505,42554,41402], axis=0, inplace=True)\n"
      ],
      "metadata": {
        "id": "j1ssNBVzGTO9"
      },
      "execution_count": null,
      "outputs": []
    },
    {
      "cell_type": "code",
      "source": [
        "plt.rcParams['figure.figsize'] = [15,10]\n",
        "\n",
        "Animated_graph = sns.barplot( movie_genre_popularity_animation[\"popularity\"],movie_genre_popularity_animation.original_title.values, color='lawngreen')\n",
        "Animated_graph.set_xlabel(\"Popularity\", fontsize = 15)\n",
        "Animated_graph.set_ylabel(\"Title\", fontsize = 15)\n",
        "Animated_graph.set_title(\"Top Animated Movies\", fontsize = 20)\n",
        "plt.show()"
      ],
      "metadata": {
        "colab": {
          "base_uri": "https://localhost:8080/",
          "height": 429
        },
        "id": "cWbC4G2JGTGn",
        "outputId": "f5f88cb8-93cb-4191-bee4-300d718e850e"
      },
      "execution_count": null,
      "outputs": [
        {
          "output_type": "stream",
          "name": "stderr",
          "text": [
            "/usr/local/lib/python3.7/dist-packages/seaborn/_decorators.py:43: FutureWarning: Pass the following variables as keyword args: x, y. From version 0.12, the only valid positional argument will be `data`, and passing other arguments without an explicit keyword will result in an error or misinterpretation.\n",
            "  FutureWarning\n"
          ]
        },
        {
          "output_type": "display_data",
          "data": {
            "text/plain": [
              "<Figure size 1080x720 with 1 Axes>"
            ],
            "image/png": "[encoded data removed]"
          },
          "metadata": {
            "needs_background": "light"
          }
        }
      ]
    },
    {
      "cell_type": "markdown",
      "source": [
        "**Graph 4**\n",
        "\n",
        "> The above Bar Chart shows the titles of the **Top Animated Movies** according to their popularity.\n"
      ],
      "metadata": {
        "id": "4zHi6uIlR8x9"
      }
    },
    {
      "cell_type": "code",
      "source": [
        "movie_genre_popularity = movie_genre_popularity.head(15)"
      ],
      "metadata": {
        "id": "l-cChfUY8GFB"
      },
      "execution_count": null,
      "outputs": []
    },
    {
      "cell_type": "code",
      "source": [
        "plt.rcParams['figure.figsize'] = [15,10]\n",
        "\n",
        "popular_graph = sns.barplot( movie_genre_popularity[\"popularity\"],movie_genre_popularity.original_title.values, color='lawngreen')\n",
        "popular_graph.set_xlabel(\"Popularity\", fontsize = 15)\n",
        "popular_graph.set_ylabel(\"Title\", fontsize = 15)\n",
        "popular_graph.set_title(\"Most Popular Movies\", fontsize = 20)\n",
        "plt.show()"
      ],
      "metadata": {
        "colab": {
          "base_uri": "https://localhost:8080/"
        },
        "id": "TRu8AfG58OmR",
        "outputId": "d9a89476-e56e-4cb6-920b-e49e41aa8b72"
      },
      "execution_count": null,
      "outputs": [
        {
          "output_type": "stream",
          "name": "stderr",
          "text": [
            "/usr/local/lib/python3.7/dist-packages/seaborn/_decorators.py:43: FutureWarning: Pass the following variables as keyword args: x, y. From version 0.12, the only valid positional argument will be `data`, and passing other arguments without an explicit keyword will result in an error or misinterpretation.\n",
            "  FutureWarning\n"
          ]
        },
        {
          "output_type": "display_data",
          "data": {
            "text/plain": [
              "<Figure size 1080x720 with 1 Axes>"
            ],
            "image/png": "[encoded data removed]"
          },
          "metadata": {
            "needs_background": "light"
          }
        }
      ]
    },
    {
      "cell_type": "markdown",
      "source": [
        "**Graph 5**\n",
        "\n",
        "> The above Bar Chart shows the titles of the most popular movies according to their popularity."
      ],
      "metadata": {
        "id": "e1_5ChiZSODf"
      }
    },
    {
      "cell_type": "code",
      "execution_count": null,
      "metadata": {
        "id": "kDz8JxWa_LR_"
      },
      "outputs": [],
      "source": [
        "movies_genres = pd.DataFrame()\n",
        "movies_genres['genres'] = movies.genres\n",
        "# movies_genres"
      ]
    },
    {
      "cell_type": "code",
      "execution_count": null,
      "metadata": {
        "colab": {
          "base_uri": "https://localhost:8080/"
        },
        "id": "zEA-_RzzAcwa",
        "outputId": "b990fd50-48e7-4382-d8c3-7a70b12eeb1b"
      },
      "outputs": [
        {
          "output_type": "execute_result",
          "data": {
            "text/plain": [
              "              genre  total\n",
              "0         Animation   1573\n",
              "1            Comedy   9449\n",
              "2            Family   2160\n",
              "3         Adventure   2824\n",
              "4           Fantasy   1897\n",
              "5           Romance   4735\n",
              "6             Drama  13904\n",
              "7            Action   5203\n",
              "8             Crime   3253\n",
              "9          Thriller   6119\n",
              "10           Horror   3897\n",
              "11          History   1022\n",
              "12  Science Fiction   2516\n",
              "13          Mystery   1875\n",
              "14              War    909\n",
              "15          Foreign    877\n",
              "16            Music    976\n",
              "17      Documentary   1667\n",
              "18          Western    606\n",
              "19         TV Movie    484"
            ],
            "text/html": [
              "\n",
              "  <div id=\"df-8c939d12-2565-4a77-85c8-ec014f17db46\">\n",
              "    <div class=\"colab-df-container\">\n",
              "      <div>\n",
              "<style scoped>\n",
              "    .dataframe tbody tr th:only-of-type {\n",
              "        vertical-align: middle;\n",
              "    }\n",
              "\n",
              "    .dataframe tbody tr th {\n",
              "        vertical-align: top;\n",
              "    }\n",
              "\n",
              "    .dataframe thead th {\n",
              "        text-align: right;\n",
              "    }\n",
              "</style>\n",
              "<table border=\"1\" class=\"dataframe\">\n",
              "  <thead>\n",
              "    <tr style=\"text-align: right;\">\n",
              "      <th></th>\n",
              "      <th>genre</th>\n",
              "      <th>total</th>\n",
              "    </tr>\n",
              "  </thead>\n",
              "  <tbody>\n",
              "    <tr>\n",
              "      <th>0</th>\n",
              "      <td>Animation</td>\n",
              "      <td>1573</td>\n",
              "    </tr>\n",
              "    <tr>\n",
              "      <th>1</th>\n",
              "      <td>Comedy</td>\n",
              "      <td>9449</td>\n",
              "    </tr>\n",
              "    <tr>\n",
              "      <th>2</th>\n",
              "      <td>Family</td>\n",
              "      <td>2160</td>\n",
              "    </tr>\n",
              "    <tr>\n",
              "      <th>3</th>\n",
              "      <td>Adventure</td>\n",
              "      <td>2824</td>\n",
              "    </tr>\n",
              "    <tr>\n",
              "      <th>4</th>\n",
              "      <td>Fantasy</td>\n",
              "      <td>1897</td>\n",
              "    </tr>\n",
              "    <tr>\n",
              "      <th>5</th>\n",
              "      <td>Romance</td>\n",
              "      <td>4735</td>\n",
              "    </tr>\n",
              "    <tr>\n",
              "      <th>6</th>\n",
              "      <td>Drama</td>\n",
              "      <td>13904</td>\n",
              "    </tr>\n",
              "    <tr>\n",
              "      <th>7</th>\n",
              "      <td>Action</td>\n",
              "      <td>5203</td>\n",
              "    </tr>\n",
              "    <tr>\n",
              "      <th>8</th>\n",
              "      <td>Crime</td>\n",
              "      <td>3253</td>\n",
              "    </tr>\n",
              "    <tr>\n",
              "      <th>9</th>\n",
              "      <td>Thriller</td>\n",
              "      <td>6119</td>\n",
              "    </tr>\n",
              "    <tr>\n",
              "      <th>10</th>\n",
              "      <td>Horror</td>\n",
              "      <td>3897</td>\n",
              "    </tr>\n",
              "    <tr>\n",
              "      <th>11</th>\n",
              "      <td>History</td>\n",
              "      <td>1022</td>\n",
              "    </tr>\n",
              "    <tr>\n",
              "      <th>12</th>\n",
              "      <td>Science Fiction</td>\n",
              "      <td>2516</td>\n",
              "    </tr>\n",
              "    <tr>\n",
              "      <th>13</th>\n",
              "      <td>Mystery</td>\n",
              "      <td>1875</td>\n",
              "    </tr>\n",
              "    <tr>\n",
              "      <th>14</th>\n",
              "      <td>War</td>\n",
              "      <td>909</td>\n",
              "    </tr>\n",
              "    <tr>\n",
              "      <th>15</th>\n",
              "      <td>Foreign</td>\n",
              "      <td>877</td>\n",
              "    </tr>\n",
              "    <tr>\n",
              "      <th>16</th>\n",
              "      <td>Music</td>\n",
              "      <td>976</td>\n",
              "    </tr>\n",
              "    <tr>\n",
              "      <th>17</th>\n",
              "      <td>Documentary</td>\n",
              "      <td>1667</td>\n",
              "    </tr>\n",
              "    <tr>\n",
              "      <th>18</th>\n",
              "      <td>Western</td>\n",
              "      <td>606</td>\n",
              "    </tr>\n",
              "    <tr>\n",
              "      <th>19</th>\n",
              "      <td>TV Movie</td>\n",
              "      <td>484</td>\n",
              "    </tr>\n",
              "  </tbody>\n",
              "</table>\n",
              "</div>\n",
              "      <button class=\"colab-df-convert\" onclick=\"convertToInteractive('df-8c939d12-2565-4a77-85c8-ec014f17db46')\"\n",
              "              title=\"Convert this dataframe to an interactive table.\"\n",
              "              style=\"display:none;\">\n",
              "        \n",
              "  <svg xmlns=\"http://www.w3.org/2000/svg\" height=\"24px\"viewBox=\"0 0 24 24\"\n",
              "       width=\"24px\">\n",
              "    <path d=\"M0 0h24v24H0V0z\" fill=\"none\"/>\n",
              "    <path d=\"M18.56 5.44l.94 2.06.94-2.06 2.06-.94-2.06-.94-.94-2.06-.94 2.06-2.06.94zm-11 1L8.5 8.5l.94-2.06 2.06-.94-2.06-.94L8.5 2.5l-.94 2.06-2.06.94zm10 10l.94 2.06.94-2.06 2.06-.94-2.06-.94-.94-2.06-.94 2.06-2.06.94z\"/><path d=\"M17.41 7.96l-1.37-1.37c-.4-.4-.92-.59-1.43-.59-.52 0-1.04.2-1.43.59L10.3 9.45l-7.72 7.72c-.78.78-.78 2.05 0 2.83L4 21.41c.39.39.9.59 1.41.59.51 0 1.02-.2 1.41-.59l7.78-7.78 2.81-2.81c.8-.78.8-2.07 0-2.86zM5.41 20L4 18.59l7.72-7.72 1.47 1.35L5.41 20z\"/>\n",
              "  </svg>\n",
              "      </button>\n",
              "      \n",
              "  <style>\n",
              "    .colab-df-container {\n",
              "      display:flex;\n",
              "      flex-wrap:wrap;\n",
              "      gap: 12px;\n",
              "    }\n",
              "\n",
              "    .colab-df-convert {\n",
              "      background-color: #E8F0FE;\n",
              "      border: none;\n",
              "      border-radius: 50%;\n",
              "      cursor: pointer;\n",
              "      display: none;\n",
              "      fill: #1967D2;\n",
              "      height: 32px;\n",
              "      padding: 0 0 0 0;\n",
              "      width: 32px;\n",
              "    }\n",
              "\n",
              "    .colab-df-convert:hover {\n",
              "      background-color: #E2EBFA;\n",
              "      box-shadow: 0px 1px 2px rgba(60, 64, 67, 0.3), 0px 1px 3px 1px rgba(60, 64, 67, 0.15);\n",
              "      fill: #174EA6;\n",
              "    }\n",
              "\n",
              "    [theme=dark] .colab-df-convert {\n",
              "      background-color: #3B4455;\n",
              "      fill: #D2E3FC;\n",
              "    }\n",
              "\n",
              "    [theme=dark] .colab-df-convert:hover {\n",
              "      background-color: #434B5C;\n",
              "      box-shadow: 0px 1px 3px 1px rgba(0, 0, 0, 0.15);\n",
              "      filter: drop-shadow(0px 1px 2px rgba(0, 0, 0, 0.3));\n",
              "      fill: #FFFFFF;\n",
              "    }\n",
              "  </style>\n",
              "\n",
              "      <script>\n",
              "        const buttonEl =\n",
              "          document.querySelector('#df-8c939d12-2565-4a77-85c8-ec014f17db46 button.colab-df-convert');\n",
              "        buttonEl.style.display =\n",
              "          google.colab.kernel.accessAllowed ? 'block' : 'none';\n",
              "\n",
              "        async function convertToInteractive(key) {\n",
              "          const element = document.querySelector('#df-8c939d12-2565-4a77-85c8-ec014f17db46');\n",
              "          const dataTable =\n",
              "            await google.colab.kernel.invokeFunction('convertToInteractive',\n",
              "                                                     [key], {});\n",
              "          if (!dataTable) return;\n",
              "\n",
              "          const docLinkHtml = 'Like what you see? Visit the ' +\n",
              "            '<a target=\"_blank\" href=https://colab.research.google.com/notebooks/data_table.ipynb>data table notebook</a>'\n",
              "            + ' to learn more about interactive tables.';\n",
              "          element.innerHTML = '';\n",
              "          dataTable['output_type'] = 'display_data';\n",
              "          await google.colab.output.renderOutput(dataTable, element);\n",
              "          const docLink = document.createElement('div');\n",
              "          docLink.innerHTML = docLinkHtml;\n",
              "          element.appendChild(docLink);\n",
              "        }\n",
              "      </script>\n",
              "    </div>\n",
              "  </div>\n",
              "  "
            ]
          },
          "metadata": {},
          "execution_count": 82
        }
      ],
      "source": [
        "# Count of each genre\n",
        "d = dict()\n",
        "for i in movies_genres['genres']:\n",
        "  for j in i:\n",
        "    if j in d:\n",
        "      d[j] +=1\n",
        "    else:\n",
        "      d[j] = 1\n",
        "movies_genres_df = pd.DataFrame(d.items(), columns=['genre', 'total'])\n",
        "movies_genres_df"
      ]
    },
    {
      "cell_type": "code",
      "execution_count": null,
      "metadata": {
        "colab": {
          "base_uri": "https://localhost:8080/",
          "height": 479
        },
        "id": "pTtJmKHmIPPc",
        "outputId": "d0a12504-d63b-46bb-be2d-ea97eee1ae82"
      },
      "outputs": [
        {
          "output_type": "stream",
          "name": "stderr",
          "text": [
            "/usr/local/lib/python3.7/dist-packages/seaborn/_decorators.py:43: FutureWarning: Pass the following variables as keyword args: x, y. From version 0.12, the only valid positional argument will be `data`, and passing other arguments without an explicit keyword will result in an error or misinterpretation.\n",
            "  FutureWarning\n"
          ]
        },
        {
          "output_type": "display_data",
          "data": {
            "text/plain": [
              "<Figure size 1080x720 with 1 Axes>"
            ],
            "image/png": "[encoded data removed]"
          },
          "metadata": {
            "needs_background": "light"
          }
        }
      ],
      "source": [
        "plt.rcParams['figure.figsize'] = [15,10]\n",
        "\n",
        "genre_graph = sns.barplot( movies_genres_df[\"total\"],movies_genres_df.genre.values, color='lawngreen')\n",
        "genre_graph.set_xlabel(\"No. of Movies\", fontsize = 15)\n",
        "genre_graph.set_ylabel(\"genre\", fontsize = 15)\n",
        "genre_graph.set_title(\"Top Genres\", fontsize = 20)\n",
        "plt.show()\n"
      ]
    },
    {
      "cell_type": "markdown",
      "source": [
        "**Graph 6**\n",
        "\n",
        "> The above Bar Chart shows the **Number of Movies** in each genre."
      ],
      "metadata": {
        "id": "EuKPqE7zUMks"
      }
    },
    {
      "cell_type": "code",
      "source": [
        "genre_list = []\n",
        "lis = movies_genres_df['genre']\n",
        "for i in lis:\n",
        "    genre_list.append(i)\n",
        "# genre_list\n",
        "movies['genres_bin'] = movies['genres'].apply(lambda x: binary_genres(x))\n",
        "movies['genres_bin'].head()"
      ],
      "metadata": {
        "colab": {
          "base_uri": "https://localhost:8080/"
        },
        "id": "gFesJsDLzOsG",
        "outputId": "d8794a80-5ce8-4105-de49-f4519332975c"
      },
      "execution_count": null,
      "outputs": [
        {
          "output_type": "execute_result",
          "data": {
            "text/plain": [
              "0    [1, 1, 1, 0, 0, 0, 0, 0, 0, 0, 0, 0, 0, 0, 0, ...\n",
              "1    [0, 0, 1, 1, 1, 0, 0, 0, 0, 0, 0, 0, 0, 0, 0, ...\n",
              "2    [0, 1, 0, 0, 0, 1, 0, 0, 0, 0, 0, 0, 0, 0, 0, ...\n",
              "3    [0, 1, 0, 0, 0, 1, 1, 0, 0, 0, 0, 0, 0, 0, 0, ...\n",
              "4    [0, 1, 0, 0, 0, 0, 0, 0, 0, 0, 0, 0, 0, 0, 0, ...\n",
              "Name: genres_bin, dtype: object"
            ]
          },
          "metadata": {},
          "execution_count": 84
        }
      ]
    },
    {
      "cell_type": "markdown",
      "source": [
        "# **Summary of working with Genres**\n",
        "\n",
        "\n",
        "1.   The Most popular movie is “Minions”.\n",
        "2.   By Analyzing each genre:<br>\n",
        "    2.1. Most popular Romance Comedy movie is “Forrest Gump”.<br>\n",
        "    2.2. Most popular crime and thriller movie is “Baby Driver”.<br>\n",
        "    2.3. Most popular Action Drama Movie is \"Dark Knight\".<br>\n",
        "    2.4. Most popular Animated Movie is \"Dark Knight\".\n",
        "\n",
        "\n",
        "3.   Most movies are related to “Drama” genre followed by Comedy and Thriller.\n"
      ],
      "metadata": {
        "id": "HMNEeINDcMU4"
      }
    },
    {
      "cell_type": "markdown",
      "source": [
        "# **Working with Cast**"
      ],
      "metadata": {
        "id": "SKbqk9Tgh_Vg"
      }
    },
    {
      "cell_type": "code",
      "source": [
        "movies_cast = pd.DataFrame()\n",
        "movies_cast['cast'] = movies.cast\n",
        "movies_cast.dropna(subset=['cast'],inplace=True)\n",
        "movies_cast"
      ],
      "metadata": {
        "colab": {
          "base_uri": "https://localhost:8080/"
        },
        "id": "ZhFLe5GWh6ej",
        "outputId": "00688543-c587-45a7-ab11-b189883cb16c"
      },
      "execution_count": null,
      "outputs": [
        {
          "output_type": "execute_result",
          "data": {
            "text/plain": [
              "                                                    cast\n",
              "0      [Tom Hanks, Tim Allen, Don Rickles, Jim Varney...\n",
              "1      [Robin Williams, Jonathan Hyde, Kirsten Dunst,...\n",
              "2      [Walter Matthau, Jack Lemmon, Ann-Margret, Sop...\n",
              "3      [Whitney Houston, Angela Bassett, Loretta Devi...\n",
              "4      [Steve Martin, Diane Keaton, Martin Short, Kim...\n",
              "...                                                  ...\n",
              "46614                    [Jeanne d'Alcy, Georges Méliès]\n",
              "46616  [Sridevi Kapoor, Sajal Ali, Akshaye Khanna, Na...\n",
              "46619  [Rondo Hatton, Robert Lowery, Virginia Grey, B...\n",
              "46623  [Patrick Bergin, Uma Thurman, David Morrissey,...\n",
              "46626  [Erika Eleniak, Adam Baldwin, Julie du Page, J...\n",
              "\n",
              "[29082 rows x 1 columns]"
            ],
            "text/html": [
              "\n",
              "  <div id=\"df-e3d706dd-68c5-4419-a181-075117b67482\">\n",
              "    <div class=\"colab-df-container\">\n",
              "      <div>\n",
              "<style scoped>\n",
              "    .dataframe tbody tr th:only-of-type {\n",
              "        vertical-align: middle;\n",
              "    }\n",
              "\n",
              "    .dataframe tbody tr th {\n",
              "        vertical-align: top;\n",
              "    }\n",
              "\n",
              "    .dataframe thead th {\n",
              "        text-align: right;\n",
              "    }\n",
              "</style>\n",
              "<table border=\"1\" class=\"dataframe\">\n",
              "  <thead>\n",
              "    <tr style=\"text-align: right;\">\n",
              "      <th></th>\n",
              "      <th>cast</th>\n",
              "    </tr>\n",
              "  </thead>\n",
              "  <tbody>\n",
              "    <tr>\n",
              "      <th>0</th>\n",
              "      <td>[Tom Hanks, Tim Allen, Don Rickles, Jim Varney...</td>\n",
              "    </tr>\n",
              "    <tr>\n",
              "      <th>1</th>\n",
              "      <td>[Robin Williams, Jonathan Hyde, Kirsten Dunst,...</td>\n",
              "    </tr>\n",
              "    <tr>\n",
              "      <th>2</th>\n",
              "      <td>[Walter Matthau, Jack Lemmon, Ann-Margret, Sop...</td>\n",
              "    </tr>\n",
              "    <tr>\n",
              "      <th>3</th>\n",
              "      <td>[Whitney Houston, Angela Bassett, Loretta Devi...</td>\n",
              "    </tr>\n",
              "    <tr>\n",
              "      <th>4</th>\n",
              "      <td>[Steve Martin, Diane Keaton, Martin Short, Kim...</td>\n",
              "    </tr>\n",
              "    <tr>\n",
              "      <th>...</th>\n",
              "      <td>...</td>\n",
              "    </tr>\n",
              "    <tr>\n",
              "      <th>46614</th>\n",
              "      <td>[Jeanne d'Alcy, Georges Méliès]</td>\n",
              "    </tr>\n",
              "    <tr>\n",
              "      <th>46616</th>\n",
              "      <td>[Sridevi Kapoor, Sajal Ali, Akshaye Khanna, Na...</td>\n",
              "    </tr>\n",
              "    <tr>\n",
              "      <th>46619</th>\n",
              "      <td>[Rondo Hatton, Robert Lowery, Virginia Grey, B...</td>\n",
              "    </tr>\n",
              "    <tr>\n",
              "      <th>46623</th>\n",
              "      <td>[Patrick Bergin, Uma Thurman, David Morrissey,...</td>\n",
              "    </tr>\n",
              "    <tr>\n",
              "      <th>46626</th>\n",
              "      <td>[Erika Eleniak, Adam Baldwin, Julie du Page, J...</td>\n",
              "    </tr>\n",
              "  </tbody>\n",
              "</table>\n",
              "<p>29082 rows × 1 columns</p>\n",
              "</div>\n",
              "      <button class=\"colab-df-convert\" onclick=\"convertToInteractive('df-e3d706dd-68c5-4419-a181-075117b67482')\"\n",
              "              title=\"Convert this dataframe to an interactive table.\"\n",
              "              style=\"display:none;\">\n",
              "        \n",
              "  <svg xmlns=\"http://www.w3.org/2000/svg\" height=\"24px\"viewBox=\"0 0 24 24\"\n",
              "       width=\"24px\">\n",
              "    <path d=\"M0 0h24v24H0V0z\" fill=\"none\"/>\n",
              "    <path d=\"M18.56 5.44l.94 2.06.94-2.06 2.06-.94-2.06-.94-.94-2.06-.94 2.06-2.06.94zm-11 1L8.5 8.5l.94-2.06 2.06-.94-2.06-.94L8.5 2.5l-.94 2.06-2.06.94zm10 10l.94 2.06.94-2.06 2.06-.94-2.06-.94-.94-2.06-.94 2.06-2.06.94z\"/><path d=\"M17.41 7.96l-1.37-1.37c-.4-.4-.92-.59-1.43-.59-.52 0-1.04.2-1.43.59L10.3 9.45l-7.72 7.72c-.78.78-.78 2.05 0 2.83L4 21.41c.39.39.9.59 1.41.59.51 0 1.02-.2 1.41-.59l7.78-7.78 2.81-2.81c.8-.78.8-2.07 0-2.86zM5.41 20L4 18.59l7.72-7.72 1.47 1.35L5.41 20z\"/>\n",
              "  </svg>\n",
              "      </button>\n",
              "      \n",
              "  <style>\n",
              "    .colab-df-container {\n",
              "      display:flex;\n",
              "      flex-wrap:wrap;\n",
              "      gap: 12px;\n",
              "    }\n",
              "\n",
              "    .colab-df-convert {\n",
              "      background-color: #E8F0FE;\n",
              "      border: none;\n",
              "      border-radius: 50%;\n",
              "      cursor: pointer;\n",
              "      display: none;\n",
              "      fill: #1967D2;\n",
              "      height: 32px;\n",
              "      padding: 0 0 0 0;\n",
              "      width: 32px;\n",
              "    }\n",
              "\n",
              "    .colab-df-convert:hover {\n",
              "      background-color: #E2EBFA;\n",
              "      box-shadow: 0px 1px 2px rgba(60, 64, 67, 0.3), 0px 1px 3px 1px rgba(60, 64, 67, 0.15);\n",
              "      fill: #174EA6;\n",
              "    }\n",
              "\n",
              "    [theme=dark] .colab-df-convert {\n",
              "      background-color: #3B4455;\n",
              "      fill: #D2E3FC;\n",
              "    }\n",
              "\n",
              "    [theme=dark] .colab-df-convert:hover {\n",
              "      background-color: #434B5C;\n",
              "      box-shadow: 0px 1px 3px 1px rgba(0, 0, 0, 0.15);\n",
              "      filter: drop-shadow(0px 1px 2px rgba(0, 0, 0, 0.3));\n",
              "      fill: #FFFFFF;\n",
              "    }\n",
              "  </style>\n",
              "\n",
              "      <script>\n",
              "        const buttonEl =\n",
              "          document.querySelector('#df-e3d706dd-68c5-4419-a181-075117b67482 button.colab-df-convert');\n",
              "        buttonEl.style.display =\n",
              "          google.colab.kernel.accessAllowed ? 'block' : 'none';\n",
              "\n",
              "        async function convertToInteractive(key) {\n",
              "          const element = document.querySelector('#df-e3d706dd-68c5-4419-a181-075117b67482');\n",
              "          const dataTable =\n",
              "            await google.colab.kernel.invokeFunction('convertToInteractive',\n",
              "                                                     [key], {});\n",
              "          if (!dataTable) return;\n",
              "\n",
              "          const docLinkHtml = 'Like what you see? Visit the ' +\n",
              "            '<a target=\"_blank\" href=https://colab.research.google.com/notebooks/data_table.ipynb>data table notebook</a>'\n",
              "            + ' to learn more about interactive tables.';\n",
              "          element.innerHTML = '';\n",
              "          dataTable['output_type'] = 'display_data';\n",
              "          await google.colab.output.renderOutput(dataTable, element);\n",
              "          const docLink = document.createElement('div');\n",
              "          docLink.innerHTML = docLinkHtml;\n",
              "          element.appendChild(docLink);\n",
              "        }\n",
              "      </script>\n",
              "    </div>\n",
              "  </div>\n",
              "  "
            ]
          },
          "metadata": {},
          "execution_count": 85
        }
      ]
    },
    {
      "cell_type": "code",
      "source": [
        "# Creating df for actors with most appearances.\n",
        "cast_d = dict()\n",
        "for i in movies_cast['cast']:\n",
        "  for j in i:\n",
        "    if j in cast_d:\n",
        "      cast_d[j] +=1\n",
        "    else:\n",
        "      cast_d[j] = 1\n",
        "\n",
        "movies_cast_df = pd.DataFrame(cast_d.items(), columns=['cast', 'total'])\n",
        "movies_cast_df.sort_values('total',ascending=False,inplace=True)\n",
        "# movies_cast_df\n",
        "movies_top_cast_df = movies_cast_df.head(15)\n",
        "movies_top_cast_df.sort_values('total')"
      ],
      "metadata": {
        "id": "BeNQ3rcTiPli",
        "colab": {
          "base_uri": "https://localhost:8080/",
          "height": 520
        },
        "outputId": "d3f408a0-bfb6-4640-ce0a-f14a28ec0b92"
      },
      "execution_count": null,
      "outputs": [
        {
          "output_type": "execute_result",
          "data": {
            "text/plain": [
              "                     cast  total\n",
              "2894    Donald Sutherland     87\n",
              "387          Bruce Willis     87\n",
              "4490         John Goodman     88\n",
              "1267   Christopher Walken     88\n",
              "10640          John Wayne     92\n",
              "1264        Steve Buscemi     92\n",
              "82            Danny Trejo     93\n",
              "4953     Gérard Depardieu     94\n",
              "1600          Jackie Chan     98\n",
              "14336       Michael Caine     98\n",
              "69         Robert De Niro     99\n",
              "260          Frank Welker    102\n",
              "7808      Christopher Lee    116\n",
              "2205    Samuel L. Jackson    118\n",
              "8599         Bess Flowers    124"
            ],
            "text/html": [
              "\n",
              "  <div id=\"df-3ca890d1-617c-44f3-8edd-9206c7fa8e39\">\n",
              "    <div class=\"colab-df-container\">\n",
              "      <div>\n",
              "<style scoped>\n",
              "    .dataframe tbody tr th:only-of-type {\n",
              "        vertical-align: middle;\n",
              "    }\n",
              "\n",
              "    .dataframe tbody tr th {\n",
              "        vertical-align: top;\n",
              "    }\n",
              "\n",
              "    .dataframe thead th {\n",
              "        text-align: right;\n",
              "    }\n",
              "</style>\n",
              "<table border=\"1\" class=\"dataframe\">\n",
              "  <thead>\n",
              "    <tr style=\"text-align: right;\">\n",
              "      <th></th>\n",
              "      <th>cast</th>\n",
              "      <th>total</th>\n",
              "    </tr>\n",
              "  </thead>\n",
              "  <tbody>\n",
              "    <tr>\n",
              "      <th>2894</th>\n",
              "      <td>Donald Sutherland</td>\n",
              "      <td>87</td>\n",
              "    </tr>\n",
              "    <tr>\n",
              "      <th>387</th>\n",
              "      <td>Bruce Willis</td>\n",
              "      <td>87</td>\n",
              "    </tr>\n",
              "    <tr>\n",
              "      <th>4490</th>\n",
              "      <td>John Goodman</td>\n",
              "      <td>88</td>\n",
              "    </tr>\n",
              "    <tr>\n",
              "      <th>1267</th>\n",
              "      <td>Christopher Walken</td>\n",
              "      <td>88</td>\n",
              "    </tr>\n",
              "    <tr>\n",
              "      <th>10640</th>\n",
              "      <td>John Wayne</td>\n",
              "      <td>92</td>\n",
              "    </tr>\n",
              "    <tr>\n",
              "      <th>1264</th>\n",
              "      <td>Steve Buscemi</td>\n",
              "      <td>92</td>\n",
              "    </tr>\n",
              "    <tr>\n",
              "      <th>82</th>\n",
              "      <td>Danny Trejo</td>\n",
              "      <td>93</td>\n",
              "    </tr>\n",
              "    <tr>\n",
              "      <th>4953</th>\n",
              "      <td>Gérard Depardieu</td>\n",
              "      <td>94</td>\n",
              "    </tr>\n",
              "    <tr>\n",
              "      <th>1600</th>\n",
              "      <td>Jackie Chan</td>\n",
              "      <td>98</td>\n",
              "    </tr>\n",
              "    <tr>\n",
              "      <th>14336</th>\n",
              "      <td>Michael Caine</td>\n",
              "      <td>98</td>\n",
              "    </tr>\n",
              "    <tr>\n",
              "      <th>69</th>\n",
              "      <td>Robert De Niro</td>\n",
              "      <td>99</td>\n",
              "    </tr>\n",
              "    <tr>\n",
              "      <th>260</th>\n",
              "      <td>Frank Welker</td>\n",
              "      <td>102</td>\n",
              "    </tr>\n",
              "    <tr>\n",
              "      <th>7808</th>\n",
              "      <td>Christopher Lee</td>\n",
              "      <td>116</td>\n",
              "    </tr>\n",
              "    <tr>\n",
              "      <th>2205</th>\n",
              "      <td>Samuel L. Jackson</td>\n",
              "      <td>118</td>\n",
              "    </tr>\n",
              "    <tr>\n",
              "      <th>8599</th>\n",
              "      <td>Bess Flowers</td>\n",
              "      <td>124</td>\n",
              "    </tr>\n",
              "  </tbody>\n",
              "</table>\n",
              "</div>\n",
              "      <button class=\"colab-df-convert\" onclick=\"convertToInteractive('df-3ca890d1-617c-44f3-8edd-9206c7fa8e39')\"\n",
              "              title=\"Convert this dataframe to an interactive table.\"\n",
              "              style=\"display:none;\">\n",
              "        \n",
              "  <svg xmlns=\"http://www.w3.org/2000/svg\" height=\"24px\"viewBox=\"0 0 24 24\"\n",
              "       width=\"24px\">\n",
              "    <path d=\"M0 0h24v24H0V0z\" fill=\"none\"/>\n",
              "    <path d=\"M18.56 5.44l.94 2.06.94-2.06 2.06-.94-2.06-.94-.94-2.06-.94 2.06-2.06.94zm-11 1L8.5 8.5l.94-2.06 2.06-.94-2.06-.94L8.5 2.5l-.94 2.06-2.06.94zm10 10l.94 2.06.94-2.06 2.06-.94-2.06-.94-.94-2.06-.94 2.06-2.06.94z\"/><path d=\"M17.41 7.96l-1.37-1.37c-.4-.4-.92-.59-1.43-.59-.52 0-1.04.2-1.43.59L10.3 9.45l-7.72 7.72c-.78.78-.78 2.05 0 2.83L4 21.41c.39.39.9.59 1.41.59.51 0 1.02-.2 1.41-.59l7.78-7.78 2.81-2.81c.8-.78.8-2.07 0-2.86zM5.41 20L4 18.59l7.72-7.72 1.47 1.35L5.41 20z\"/>\n",
              "  </svg>\n",
              "      </button>\n",
              "      \n",
              "  <style>\n",
              "    .colab-df-container {\n",
              "      display:flex;\n",
              "      flex-wrap:wrap;\n",
              "      gap: 12px;\n",
              "    }\n",
              "\n",
              "    .colab-df-convert {\n",
              "      background-color: #E8F0FE;\n",
              "      border: none;\n",
              "      border-radius: 50%;\n",
              "      cursor: pointer;\n",
              "      display: none;\n",
              "      fill: #1967D2;\n",
              "      height: 32px;\n",
              "      padding: 0 0 0 0;\n",
              "      width: 32px;\n",
              "    }\n",
              "\n",
              "    .colab-df-convert:hover {\n",
              "      background-color: #E2EBFA;\n",
              "      box-shadow: 0px 1px 2px rgba(60, 64, 67, 0.3), 0px 1px 3px 1px rgba(60, 64, 67, 0.15);\n",
              "      fill: #174EA6;\n",
              "    }\n",
              "\n",
              "    [theme=dark] .colab-df-convert {\n",
              "      background-color: #3B4455;\n",
              "      fill: #D2E3FC;\n",
              "    }\n",
              "\n",
              "    [theme=dark] .colab-df-convert:hover {\n",
              "      background-color: #434B5C;\n",
              "      box-shadow: 0px 1px 3px 1px rgba(0, 0, 0, 0.15);\n",
              "      filter: drop-shadow(0px 1px 2px rgba(0, 0, 0, 0.3));\n",
              "      fill: #FFFFFF;\n",
              "    }\n",
              "  </style>\n",
              "\n",
              "      <script>\n",
              "        const buttonEl =\n",
              "          document.querySelector('#df-3ca890d1-617c-44f3-8edd-9206c7fa8e39 button.colab-df-convert');\n",
              "        buttonEl.style.display =\n",
              "          google.colab.kernel.accessAllowed ? 'block' : 'none';\n",
              "\n",
              "        async function convertToInteractive(key) {\n",
              "          const element = document.querySelector('#df-3ca890d1-617c-44f3-8edd-9206c7fa8e39');\n",
              "          const dataTable =\n",
              "            await google.colab.kernel.invokeFunction('convertToInteractive',\n",
              "                                                     [key], {});\n",
              "          if (!dataTable) return;\n",
              "\n",
              "          const docLinkHtml = 'Like what you see? Visit the ' +\n",
              "            '<a target=\"_blank\" href=https://colab.research.google.com/notebooks/data_table.ipynb>data table notebook</a>'\n",
              "            + ' to learn more about interactive tables.';\n",
              "          element.innerHTML = '';\n",
              "          dataTable['output_type'] = 'display_data';\n",
              "          await google.colab.output.renderOutput(dataTable, element);\n",
              "          const docLink = document.createElement('div');\n",
              "          docLink.innerHTML = docLinkHtml;\n",
              "          element.appendChild(docLink);\n",
              "        }\n",
              "      </script>\n",
              "    </div>\n",
              "  </div>\n",
              "  "
            ]
          },
          "metadata": {},
          "execution_count": 86
        }
      ]
    },
    {
      "cell_type": "code",
      "source": [
        "cast_list = []\n",
        "cast_lis = movies_cast_df['cast']\n",
        "cast_tot = movies_cast_df['total']\n",
        "for i,j in zip(cast_lis,cast_tot):\n",
        "  if j>100:\n",
        "    cast_list.append(i)\n",
        "# cast_list"
      ],
      "metadata": {
        "id": "uR2JsCUdyEZb"
      },
      "execution_count": null,
      "outputs": []
    },
    {
      "cell_type": "code",
      "source": [
        "plt.rcParams['figure.figsize'] = [15,10]\n",
        "\n",
        "cast_graph = sns.barplot( movies_top_cast_df[\"total\"],movies_top_cast_df.cast, color='lawngreen')\n",
        "cast_graph.set_xlabel(\"No. of Movies\", fontsize = 15)\n",
        "cast_graph.set_ylabel(\"Actors\", fontsize = 15)\n",
        "cast_graph.set_title(\"Actors with Most Appearances\", fontsize = 20)\n",
        "plt.show()"
      ],
      "metadata": {
        "colab": {
          "base_uri": "https://localhost:8080/"
        },
        "id": "XSatpRAH1e9u",
        "outputId": "cdf35cbf-b696-42d9-f9ad-a7a7a5bd855c"
      },
      "execution_count": null,
      "outputs": [
        {
          "output_type": "stream",
          "name": "stderr",
          "text": [
            "/usr/local/lib/python3.7/dist-packages/seaborn/_decorators.py:43: FutureWarning: Pass the following variables as keyword args: x, y. From version 0.12, the only valid positional argument will be `data`, and passing other arguments without an explicit keyword will result in an error or misinterpretation.\n",
            "  FutureWarning\n"
          ]
        },
        {
          "output_type": "display_data",
          "data": {
            "text/plain": [
              "<Figure size 1080x720 with 1 Axes>"
            ],
            "image/png": "[encoded data removed]"
          },
          "metadata": {
            "needs_background": "light"
          }
        }
      ]
    },
    {
      "cell_type": "markdown",
      "source": [
        "**Graph 7**\n",
        "\n",
        "> The above Bar Chart shows the **Actors with Most Appearances**."
      ],
      "metadata": {
        "id": "CSvQ_thCV12t"
      }
    },
    {
      "cell_type": "code",
      "source": [
        "lis_cast_bin = []\n",
        "for i in movies_cast['cast']:\n",
        "    c=0\n",
        "    l = len(i)\n",
        "    for j in i:\n",
        "        if l>30:\n",
        "            if c>2: break\n",
        "        elif l<=30 and l>20:\n",
        "            if c>1: break\n",
        "        elif l<=20:\n",
        "            if c>0: break\n",
        "        c+=1\n",
        "        lis_cast_bin.append(j)\n",
        "\n",
        "lis_cast_bin = list(set(lis_cast_bin))\n",
        "len(lis_cast_bin)\n",
        "    "
      ],
      "metadata": {
        "colab": {
          "base_uri": "https://localhost:8080/"
        },
        "id": "2LVrX1TPxRKx",
        "outputId": "6c09a09d-7ba6-4521-9dfc-6894a751b868"
      },
      "execution_count": null,
      "outputs": [
        {
          "output_type": "execute_result",
          "data": {
            "text/plain": [
              "13901"
            ]
          },
          "metadata": {},
          "execution_count": 89
        }
      ]
    },
    {
      "cell_type": "code",
      "source": [
        "movies['cast'].isna().sum()\n",
        "movies.dropna(subset = ['cast'],inplace=True)"
      ],
      "metadata": {
        "id": "KxqZaifxxRE0"
      },
      "execution_count": null,
      "outputs": []
    },
    {
      "cell_type": "code",
      "source": [
        "movies['cast_bin'] = movies['cast'].apply(lambda x: binary_cast(x))\n",
        "movies['cast_bin'].head()"
      ],
      "metadata": {
        "colab": {
          "base_uri": "https://localhost:8080/"
        },
        "id": "U8DBp659xQ8D",
        "outputId": "0f5cb943-1463-4213-a348-67d87da1227c"
      },
      "execution_count": null,
      "outputs": [
        {
          "output_type": "execute_result",
          "data": {
            "text/plain": [
              "0    [0, 0, 0, 0, 0, 0, 0, 0, 0, 0, 0, 0, 0, 0, 0, ...\n",
              "1    [0, 0, 0, 0, 0, 0, 0, 0, 0, 0, 0, 0, 0, 0, 0, ...\n",
              "2    [0, 0, 0, 0, 0, 0, 0, 0, 0, 0, 0, 0, 0, 0, 0, ...\n",
              "3    [0, 0, 0, 0, 0, 0, 0, 0, 0, 0, 0, 0, 0, 0, 0, ...\n",
              "4    [0, 0, 0, 0, 0, 0, 0, 0, 0, 0, 0, 0, 0, 0, 0, ...\n",
              "Name: cast_bin, dtype: object"
            ]
          },
          "metadata": {},
          "execution_count": 91
        }
      ]
    },
    {
      "cell_type": "markdown",
      "source": [
        "# **Working with Directors**"
      ],
      "metadata": {
        "id": "bQm8bhzUxdi3"
      }
    },
    {
      "cell_type": "code",
      "source": [
        "movies['Director']"
      ],
      "metadata": {
        "colab": {
          "base_uri": "https://localhost:8080/"
        },
        "id": "TNgiJBqoxQ4k",
        "outputId": "d8469bda-94d8-4d62-a8cc-78a1c73476db"
      },
      "execution_count": null,
      "outputs": [
        {
          "output_type": "execute_result",
          "data": {
            "text/plain": [
              "0          [John Lasseter]\n",
              "1           [Joe Johnston]\n",
              "2          [Howard Deutch]\n",
              "3        [Forest Whitaker]\n",
              "4          [Charles Shyer]\n",
              "               ...        \n",
              "46614     [Georges Méliès]\n",
              "46616       [Ravi Udyawar]\n",
              "46619     [Jean Yarbrough]\n",
              "46623         [John Irvin]\n",
              "46626     [Mark L. Lester]\n",
              "Name: Director, Length: 29082, dtype: object"
            ]
          },
          "metadata": {},
          "execution_count": 92
        }
      ]
    },
    {
      "cell_type": "code",
      "source": [
        "director_d = dict()\n",
        "for i in movies['Director']:\n",
        "  for j in i:\n",
        "    if j in director_d:\n",
        "      director_d[j] +=1\n",
        "    else:\n",
        "      director_d[j] = 1\n",
        "\n",
        "movies_director_df = pd.DataFrame(director_d.items(), columns=['director', 'total'])\n",
        "# movies_director_df\n",
        "# len(movies_director_df['total'])\n",
        "movies_director_df.sort_values('total',ascending=False,inplace=True)"
      ],
      "metadata": {
        "id": "-X9VH9GoxQyU"
      },
      "execution_count": null,
      "outputs": []
    },
    {
      "cell_type": "code",
      "source": [
        "director_list = []\n",
        "director_lis = movies_director_df['director']\n",
        "director_tot = movies_director_df['total']\n",
        "for i,j in zip(director_lis,director_tot):\n",
        "  if j>1:\n",
        "    director_list.append(i)"
      ],
      "metadata": {
        "id": "MlK9KXASxQcT"
      },
      "execution_count": null,
      "outputs": []
    },
    {
      "cell_type": "code",
      "source": [
        "movies_top_directors_df = movies_director_df.head(15)\n",
        "movies_top_directors_df.sort_values('total')"
      ],
      "metadata": {
        "colab": {
          "base_uri": "https://localhost:8080/"
        },
        "id": "Ij-n1aKExm9S",
        "outputId": "0b13112f-aa61-474c-ba3a-65381be6a56f"
      },
      "execution_count": null,
      "outputs": [
        {
          "output_type": "execute_result",
          "data": {
            "text/plain": [
              "               director  total\n",
              "1364      Buster Keaton     34\n",
              "563        George Cukor     34\n",
              "2273      Takashi Miike     34\n",
              "353        Sidney Lumet     34\n",
              "473     Jean-Luc Godard     35\n",
              "97       Clint Eastwood     35\n",
              "281   Steven Soderbergh     35\n",
              "572      Michael Curtiz     37\n",
              "704      Ingmar Bergman     37\n",
              "15      Martin Scorsese     38\n",
              "700           John Ford     41\n",
              "713     Charlie Chaplin     42\n",
              "1345      Werner Herzog     46\n",
              "54          Woody Allen     49\n",
              "568    Alfred Hitchcock     51"
            ],
            "text/html": [
              "\n",
              "  <div id=\"df-f3322016-4a76-4a76-8779-34799d918afa\">\n",
              "    <div class=\"colab-df-container\">\n",
              "      <div>\n",
              "<style scoped>\n",
              "    .dataframe tbody tr th:only-of-type {\n",
              "        vertical-align: middle;\n",
              "    }\n",
              "\n",
              "    .dataframe tbody tr th {\n",
              "        vertical-align: top;\n",
              "    }\n",
              "\n",
              "    .dataframe thead th {\n",
              "        text-align: right;\n",
              "    }\n",
              "</style>\n",
              "<table border=\"1\" class=\"dataframe\">\n",
              "  <thead>\n",
              "    <tr style=\"text-align: right;\">\n",
              "      <th></th>\n",
              "      <th>director</th>\n",
              "      <th>total</th>\n",
              "    </tr>\n",
              "  </thead>\n",
              "  <tbody>\n",
              "    <tr>\n",
              "      <th>1364</th>\n",
              "      <td>Buster Keaton</td>\n",
              "      <td>34</td>\n",
              "    </tr>\n",
              "    <tr>\n",
              "      <th>563</th>\n",
              "      <td>George Cukor</td>\n",
              "      <td>34</td>\n",
              "    </tr>\n",
              "    <tr>\n",
              "      <th>2273</th>\n",
              "      <td>Takashi Miike</td>\n",
              "      <td>34</td>\n",
              "    </tr>\n",
              "    <tr>\n",
              "      <th>353</th>\n",
              "      <td>Sidney Lumet</td>\n",
              "      <td>34</td>\n",
              "    </tr>\n",
              "    <tr>\n",
              "      <th>473</th>\n",
              "      <td>Jean-Luc Godard</td>\n",
              "      <td>35</td>\n",
              "    </tr>\n",
              "    <tr>\n",
              "      <th>97</th>\n",
              "      <td>Clint Eastwood</td>\n",
              "      <td>35</td>\n",
              "    </tr>\n",
              "    <tr>\n",
              "      <th>281</th>\n",
              "      <td>Steven Soderbergh</td>\n",
              "      <td>35</td>\n",
              "    </tr>\n",
              "    <tr>\n",
              "      <th>572</th>\n",
              "      <td>Michael Curtiz</td>\n",
              "      <td>37</td>\n",
              "    </tr>\n",
              "    <tr>\n",
              "      <th>704</th>\n",
              "      <td>Ingmar Bergman</td>\n",
              "      <td>37</td>\n",
              "    </tr>\n",
              "    <tr>\n",
              "      <th>15</th>\n",
              "      <td>Martin Scorsese</td>\n",
              "      <td>38</td>\n",
              "    </tr>\n",
              "    <tr>\n",
              "      <th>700</th>\n",
              "      <td>John Ford</td>\n",
              "      <td>41</td>\n",
              "    </tr>\n",
              "    <tr>\n",
              "      <th>713</th>\n",
              "      <td>Charlie Chaplin</td>\n",
              "      <td>42</td>\n",
              "    </tr>\n",
              "    <tr>\n",
              "      <th>1345</th>\n",
              "      <td>Werner Herzog</td>\n",
              "      <td>46</td>\n",
              "    </tr>\n",
              "    <tr>\n",
              "      <th>54</th>\n",
              "      <td>Woody Allen</td>\n",
              "      <td>49</td>\n",
              "    </tr>\n",
              "    <tr>\n",
              "      <th>568</th>\n",
              "      <td>Alfred Hitchcock</td>\n",
              "      <td>51</td>\n",
              "    </tr>\n",
              "  </tbody>\n",
              "</table>\n",
              "</div>\n",
              "      <button class=\"colab-df-convert\" onclick=\"convertToInteractive('df-f3322016-4a76-4a76-8779-34799d918afa')\"\n",
              "              title=\"Convert this dataframe to an interactive table.\"\n",
              "              style=\"display:none;\">\n",
              "        \n",
              "  <svg xmlns=\"http://www.w3.org/2000/svg\" height=\"24px\"viewBox=\"0 0 24 24\"\n",
              "       width=\"24px\">\n",
              "    <path d=\"M0 0h24v24H0V0z\" fill=\"none\"/>\n",
              "    <path d=\"M18.56 5.44l.94 2.06.94-2.06 2.06-.94-2.06-.94-.94-2.06-.94 2.06-2.06.94zm-11 1L8.5 8.5l.94-2.06 2.06-.94-2.06-.94L8.5 2.5l-.94 2.06-2.06.94zm10 10l.94 2.06.94-2.06 2.06-.94-2.06-.94-.94-2.06-.94 2.06-2.06.94z\"/><path d=\"M17.41 7.96l-1.37-1.37c-.4-.4-.92-.59-1.43-.59-.52 0-1.04.2-1.43.59L10.3 9.45l-7.72 7.72c-.78.78-.78 2.05 0 2.83L4 21.41c.39.39.9.59 1.41.59.51 0 1.02-.2 1.41-.59l7.78-7.78 2.81-2.81c.8-.78.8-2.07 0-2.86zM5.41 20L4 18.59l7.72-7.72 1.47 1.35L5.41 20z\"/>\n",
              "  </svg>\n",
              "      </button>\n",
              "      \n",
              "  <style>\n",
              "    .colab-df-container {\n",
              "      display:flex;\n",
              "      flex-wrap:wrap;\n",
              "      gap: 12px;\n",
              "    }\n",
              "\n",
              "    .colab-df-convert {\n",
              "      background-color: #E8F0FE;\n",
              "      border: none;\n",
              "      border-radius: 50%;\n",
              "      cursor: pointer;\n",
              "      display: none;\n",
              "      fill: #1967D2;\n",
              "      height: 32px;\n",
              "      padding: 0 0 0 0;\n",
              "      width: 32px;\n",
              "    }\n",
              "\n",
              "    .colab-df-convert:hover {\n",
              "      background-color: #E2EBFA;\n",
              "      box-shadow: 0px 1px 2px rgba(60, 64, 67, 0.3), 0px 1px 3px 1px rgba(60, 64, 67, 0.15);\n",
              "      fill: #174EA6;\n",
              "    }\n",
              "\n",
              "    [theme=dark] .colab-df-convert {\n",
              "      background-color: #3B4455;\n",
              "      fill: #D2E3FC;\n",
              "    }\n",
              "\n",
              "    [theme=dark] .colab-df-convert:hover {\n",
              "      background-color: #434B5C;\n",
              "      box-shadow: 0px 1px 3px 1px rgba(0, 0, 0, 0.15);\n",
              "      filter: drop-shadow(0px 1px 2px rgba(0, 0, 0, 0.3));\n",
              "      fill: #FFFFFF;\n",
              "    }\n",
              "  </style>\n",
              "\n",
              "      <script>\n",
              "        const buttonEl =\n",
              "          document.querySelector('#df-f3322016-4a76-4a76-8779-34799d918afa button.colab-df-convert');\n",
              "        buttonEl.style.display =\n",
              "          google.colab.kernel.accessAllowed ? 'block' : 'none';\n",
              "\n",
              "        async function convertToInteractive(key) {\n",
              "          const element = document.querySelector('#df-f3322016-4a76-4a76-8779-34799d918afa');\n",
              "          const dataTable =\n",
              "            await google.colab.kernel.invokeFunction('convertToInteractive',\n",
              "                                                     [key], {});\n",
              "          if (!dataTable) return;\n",
              "\n",
              "          const docLinkHtml = 'Like what you see? Visit the ' +\n",
              "            '<a target=\"_blank\" href=https://colab.research.google.com/notebooks/data_table.ipynb>data table notebook</a>'\n",
              "            + ' to learn more about interactive tables.';\n",
              "          element.innerHTML = '';\n",
              "          dataTable['output_type'] = 'display_data';\n",
              "          await google.colab.output.renderOutput(dataTable, element);\n",
              "          const docLink = document.createElement('div');\n",
              "          docLink.innerHTML = docLinkHtml;\n",
              "          element.appendChild(docLink);\n",
              "        }\n",
              "      </script>\n",
              "    </div>\n",
              "  </div>\n",
              "  "
            ]
          },
          "metadata": {},
          "execution_count": 95
        }
      ]
    },
    {
      "cell_type": "code",
      "source": [
        "plt.rcParams['figure.figsize'] = [15,10]\n",
        "\n",
        "director_graph = sns.barplot( movies_top_directors_df[\"total\"],movies_top_directors_df.director, color='lawngreen')\n",
        "director_graph.set_xlabel(\"No. of Movies\", fontsize = 15)\n",
        "director_graph.set_ylabel(\"Directors\", fontsize = 15)\n",
        "director_graph.set_title(\"Directors with Highest Movies\", fontsize = 20)\n",
        "plt.show()"
      ],
      "metadata": {
        "colab": {
          "base_uri": "https://localhost:8080/"
        },
        "id": "-UqQU_cmxm66",
        "outputId": "d8ff1431-81d4-4d2a-a70e-b07bf8cd97c5"
      },
      "execution_count": null,
      "outputs": [
        {
          "output_type": "stream",
          "name": "stderr",
          "text": [
            "/usr/local/lib/python3.7/dist-packages/seaborn/_decorators.py:43: FutureWarning: Pass the following variables as keyword args: x, y. From version 0.12, the only valid positional argument will be `data`, and passing other arguments without an explicit keyword will result in an error or misinterpretation.\n",
            "  FutureWarning\n"
          ]
        },
        {
          "output_type": "display_data",
          "data": {
            "text/plain": [
              "<Figure size 1080x720 with 1 Axes>"
            ],
            "image/png": "[encoded data removed]"
          },
          "metadata": {
            "needs_background": "light"
          }
        }
      ]
    },
    {
      "cell_type": "markdown",
      "source": [
        "**Graph 8**\n",
        "\n",
        "> The above Bar Chart shows the **Directors with Most Movies**."
      ],
      "metadata": {
        "id": "AU4PRmDMWM8s"
      }
    },
    {
      "cell_type": "code",
      "source": [
        "movies['director_bin'] = movies['Director'].apply(lambda x: binary_director(x))\n",
        "movies['director_bin'].head()"
      ],
      "metadata": {
        "colab": {
          "base_uri": "https://localhost:8080/"
        },
        "id": "d0niq3CcxmvG",
        "outputId": "8d77e88d-9099-46e9-d1b7-5af3287e5387"
      },
      "execution_count": null,
      "outputs": [
        {
          "output_type": "execute_result",
          "data": {
            "text/plain": [
              "0    [0, 0, 0, 0, 0, 0, 0, 0, 0, 0, 0, 0, 0, 0, 0, ...\n",
              "1    [0, 0, 0, 0, 0, 0, 0, 0, 0, 0, 0, 0, 0, 0, 0, ...\n",
              "2    [0, 0, 0, 0, 0, 0, 0, 0, 0, 0, 0, 0, 0, 0, 0, ...\n",
              "3    [0, 0, 0, 0, 0, 0, 0, 0, 0, 0, 0, 0, 0, 0, 0, ...\n",
              "4    [0, 0, 0, 0, 0, 0, 0, 0, 0, 0, 0, 0, 0, 0, 0, ...\n",
              "Name: director_bin, dtype: object"
            ]
          },
          "metadata": {},
          "execution_count": 97
        }
      ]
    },
    {
      "cell_type": "markdown",
      "source": [
        "# **Working With Keywords**"
      ],
      "metadata": {
        "id": "GyZdR_lxxvLC"
      }
    },
    {
      "cell_type": "code",
      "source": [
        "keywords_dataset"
      ],
      "metadata": {
        "colab": {
          "base_uri": "https://localhost:8080/"
        },
        "id": "bk7DFOrXxvzz",
        "outputId": "a76e4893-d2f7-4f67-8d9a-5283e7c63f42"
      },
      "execution_count": null,
      "outputs": [
        {
          "output_type": "execute_result",
          "data": {
            "text/plain": [
              "           id                                           keywords\n",
              "0         862  [jealousy, toy, boy, friendship, friends, riva...\n",
              "1        8844  [board game, disappearance, based on children'...\n",
              "2       15602  [fishing, best friend, duringcreditsstinger, o...\n",
              "3       31357  [based on novel, interracial relationship, sin...\n",
              "4       11862  [baby, midlife crisis, confidence, aging, daug...\n",
              "...       ...                                                ...\n",
              "46414  439050                                      [tragic love]\n",
              "46415  111109                              [artist, play, pinoy]\n",
              "46416   67758                                                 []\n",
              "46417  227506                                                 []\n",
              "46418  461257                                                 []\n",
              "\n",
              "[46419 rows x 2 columns]"
            ],
            "text/html": [
              "\n",
              "  <div id=\"df-3477261c-93db-4106-8ce4-27766cb222a8\">\n",
              "    <div class=\"colab-df-container\">\n",
              "      <div>\n",
              "<style scoped>\n",
              "    .dataframe tbody tr th:only-of-type {\n",
              "        vertical-align: middle;\n",
              "    }\n",
              "\n",
              "    .dataframe tbody tr th {\n",
              "        vertical-align: top;\n",
              "    }\n",
              "\n",
              "    .dataframe thead th {\n",
              "        text-align: right;\n",
              "    }\n",
              "</style>\n",
              "<table border=\"1\" class=\"dataframe\">\n",
              "  <thead>\n",
              "    <tr style=\"text-align: right;\">\n",
              "      <th></th>\n",
              "      <th>id</th>\n",
              "      <th>keywords</th>\n",
              "    </tr>\n",
              "  </thead>\n",
              "  <tbody>\n",
              "    <tr>\n",
              "      <th>0</th>\n",
              "      <td>862</td>\n",
              "      <td>[jealousy, toy, boy, friendship, friends, riva...</td>\n",
              "    </tr>\n",
              "    <tr>\n",
              "      <th>1</th>\n",
              "      <td>8844</td>\n",
              "      <td>[board game, disappearance, based on children'...</td>\n",
              "    </tr>\n",
              "    <tr>\n",
              "      <th>2</th>\n",
              "      <td>15602</td>\n",
              "      <td>[fishing, best friend, duringcreditsstinger, o...</td>\n",
              "    </tr>\n",
              "    <tr>\n",
              "      <th>3</th>\n",
              "      <td>31357</td>\n",
              "      <td>[based on novel, interracial relationship, sin...</td>\n",
              "    </tr>\n",
              "    <tr>\n",
              "      <th>4</th>\n",
              "      <td>11862</td>\n",
              "      <td>[baby, midlife crisis, confidence, aging, daug...</td>\n",
              "    </tr>\n",
              "    <tr>\n",
              "      <th>...</th>\n",
              "      <td>...</td>\n",
              "      <td>...</td>\n",
              "    </tr>\n",
              "    <tr>\n",
              "      <th>46414</th>\n",
              "      <td>439050</td>\n",
              "      <td>[tragic love]</td>\n",
              "    </tr>\n",
              "    <tr>\n",
              "      <th>46415</th>\n",
              "      <td>111109</td>\n",
              "      <td>[artist, play, pinoy]</td>\n",
              "    </tr>\n",
              "    <tr>\n",
              "      <th>46416</th>\n",
              "      <td>67758</td>\n",
              "      <td>[]</td>\n",
              "    </tr>\n",
              "    <tr>\n",
              "      <th>46417</th>\n",
              "      <td>227506</td>\n",
              "      <td>[]</td>\n",
              "    </tr>\n",
              "    <tr>\n",
              "      <th>46418</th>\n",
              "      <td>461257</td>\n",
              "      <td>[]</td>\n",
              "    </tr>\n",
              "  </tbody>\n",
              "</table>\n",
              "<p>46419 rows × 2 columns</p>\n",
              "</div>\n",
              "      <button class=\"colab-df-convert\" onclick=\"convertToInteractive('df-3477261c-93db-4106-8ce4-27766cb222a8')\"\n",
              "              title=\"Convert this dataframe to an interactive table.\"\n",
              "              style=\"display:none;\">\n",
              "        \n",
              "  <svg xmlns=\"http://www.w3.org/2000/svg\" height=\"24px\"viewBox=\"0 0 24 24\"\n",
              "       width=\"24px\">\n",
              "    <path d=\"M0 0h24v24H0V0z\" fill=\"none\"/>\n",
              "    <path d=\"M18.56 5.44l.94 2.06.94-2.06 2.06-.94-2.06-.94-.94-2.06-.94 2.06-2.06.94zm-11 1L8.5 8.5l.94-2.06 2.06-.94-2.06-.94L8.5 2.5l-.94 2.06-2.06.94zm10 10l.94 2.06.94-2.06 2.06-.94-2.06-.94-.94-2.06-.94 2.06-2.06.94z\"/><path d=\"M17.41 7.96l-1.37-1.37c-.4-.4-.92-.59-1.43-.59-.52 0-1.04.2-1.43.59L10.3 9.45l-7.72 7.72c-.78.78-.78 2.05 0 2.83L4 21.41c.39.39.9.59 1.41.59.51 0 1.02-.2 1.41-.59l7.78-7.78 2.81-2.81c.8-.78.8-2.07 0-2.86zM5.41 20L4 18.59l7.72-7.72 1.47 1.35L5.41 20z\"/>\n",
              "  </svg>\n",
              "      </button>\n",
              "      \n",
              "  <style>\n",
              "    .colab-df-container {\n",
              "      display:flex;\n",
              "      flex-wrap:wrap;\n",
              "      gap: 12px;\n",
              "    }\n",
              "\n",
              "    .colab-df-convert {\n",
              "      background-color: #E8F0FE;\n",
              "      border: none;\n",
              "      border-radius: 50%;\n",
              "      cursor: pointer;\n",
              "      display: none;\n",
              "      fill: #1967D2;\n",
              "      height: 32px;\n",
              "      padding: 0 0 0 0;\n",
              "      width: 32px;\n",
              "    }\n",
              "\n",
              "    .colab-df-convert:hover {\n",
              "      background-color: #E2EBFA;\n",
              "      box-shadow: 0px 1px 2px rgba(60, 64, 67, 0.3), 0px 1px 3px 1px rgba(60, 64, 67, 0.15);\n",
              "      fill: #174EA6;\n",
              "    }\n",
              "\n",
              "    [theme=dark] .colab-df-convert {\n",
              "      background-color: #3B4455;\n",
              "      fill: #D2E3FC;\n",
              "    }\n",
              "\n",
              "    [theme=dark] .colab-df-convert:hover {\n",
              "      background-color: #434B5C;\n",
              "      box-shadow: 0px 1px 3px 1px rgba(0, 0, 0, 0.15);\n",
              "      filter: drop-shadow(0px 1px 2px rgba(0, 0, 0, 0.3));\n",
              "      fill: #FFFFFF;\n",
              "    }\n",
              "  </style>\n",
              "\n",
              "      <script>\n",
              "        const buttonEl =\n",
              "          document.querySelector('#df-3477261c-93db-4106-8ce4-27766cb222a8 button.colab-df-convert');\n",
              "        buttonEl.style.display =\n",
              "          google.colab.kernel.accessAllowed ? 'block' : 'none';\n",
              "\n",
              "        async function convertToInteractive(key) {\n",
              "          const element = document.querySelector('#df-3477261c-93db-4106-8ce4-27766cb222a8');\n",
              "          const dataTable =\n",
              "            await google.colab.kernel.invokeFunction('convertToInteractive',\n",
              "                                                     [key], {});\n",
              "          if (!dataTable) return;\n",
              "\n",
              "          const docLinkHtml = 'Like what you see? Visit the ' +\n",
              "            '<a target=\"_blank\" href=https://colab.research.google.com/notebooks/data_table.ipynb>data table notebook</a>'\n",
              "            + ' to learn more about interactive tables.';\n",
              "          element.innerHTML = '';\n",
              "          dataTable['output_type'] = 'display_data';\n",
              "          await google.colab.output.renderOutput(dataTable, element);\n",
              "          const docLink = document.createElement('div');\n",
              "          docLink.innerHTML = docLinkHtml;\n",
              "          element.appendChild(docLink);\n",
              "        }\n",
              "      </script>\n",
              "    </div>\n",
              "  </div>\n",
              "  "
            ]
          },
          "metadata": {},
          "execution_count": 98
        }
      ]
    },
    {
      "cell_type": "code",
      "source": [
        "keywords_list = []\n",
        "for i in keywords_dataset['keywords']:\n",
        "    for j in i:\n",
        "        if j not in keywords_list:\n",
        "            keywords_list.append(j)\n",
        "len(keywords_list)"
      ],
      "metadata": {
        "colab": {
          "base_uri": "https://localhost:8080/"
        },
        "id": "p9HkMMRxxwsy",
        "outputId": "c7ddf0e2-0040-49d8-9b22-d91adf7c84d6"
      },
      "execution_count": null,
      "outputs": [
        {
          "output_type": "execute_result",
          "data": {
            "text/plain": [
              "19956"
            ]
          },
          "metadata": {},
          "execution_count": 99
        }
      ]
    },
    {
      "cell_type": "code",
      "source": [
        "keywords_dict = dict()\n",
        "for i in keywords_dataset['keywords']:\n",
        "    for j in i:\n",
        "        if j not in keywords_dict:\n",
        "            keywords_dict[j] = 1\n",
        "        else:\n",
        "            keywords_dict[j] +=1"
      ],
      "metadata": {
        "id": "vVHuEsgGxwqM"
      },
      "execution_count": null,
      "outputs": []
    },
    {
      "cell_type": "code",
      "source": [
        "keywords_df = pd.DataFrame()\n",
        "keywords_df = pd.DataFrame(keywords_dict.items(), columns=['keywords', 'total'])\n",
        "keywords_df.sort_values(['total'],ascending=False)"
      ],
      "metadata": {
        "id": "GGdp45blxwny",
        "colab": {
          "base_uri": "https://localhost:8080/"
        },
        "outputId": "37f33b79-a8ec-49d2-8cf1-6652e3df44f4"
      },
      "execution_count": null,
      "outputs": [
        {
          "output_type": "execute_result",
          "data": {
            "text/plain": [
              "               keywords  total\n",
              "132      woman director   3115\n",
              "261    independent film   1930\n",
              "41               murder   1308\n",
              "19       based on novel    835\n",
              "343             musical    734\n",
              "...                 ...    ...\n",
              "13704      longest film      1\n",
              "13702   figher airplane      1\n",
              "13701          all girl      1\n",
              "6268     ancient scroll      1\n",
              "19955              acab      1\n",
              "\n",
              "[19956 rows x 2 columns]"
            ],
            "text/html": [
              "\n",
              "  <div id=\"df-7d4844b2-e6d5-4543-9d3c-33a95a6058fc\">\n",
              "    <div class=\"colab-df-container\">\n",
              "      <div>\n",
              "<style scoped>\n",
              "    .dataframe tbody tr th:only-of-type {\n",
              "        vertical-align: middle;\n",
              "    }\n",
              "\n",
              "    .dataframe tbody tr th {\n",
              "        vertical-align: top;\n",
              "    }\n",
              "\n",
              "    .dataframe thead th {\n",
              "        text-align: right;\n",
              "    }\n",
              "</style>\n",
              "<table border=\"1\" class=\"dataframe\">\n",
              "  <thead>\n",
              "    <tr style=\"text-align: right;\">\n",
              "      <th></th>\n",
              "      <th>keywords</th>\n",
              "      <th>total</th>\n",
              "    </tr>\n",
              "  </thead>\n",
              "  <tbody>\n",
              "    <tr>\n",
              "      <th>132</th>\n",
              "      <td>woman director</td>\n",
              "      <td>3115</td>\n",
              "    </tr>\n",
              "    <tr>\n",
              "      <th>261</th>\n",
              "      <td>independent film</td>\n",
              "      <td>1930</td>\n",
              "    </tr>\n",
              "    <tr>\n",
              "      <th>41</th>\n",
              "      <td>murder</td>\n",
              "      <td>1308</td>\n",
              "    </tr>\n",
              "    <tr>\n",
              "      <th>19</th>\n",
              "      <td>based on novel</td>\n",
              "      <td>835</td>\n",
              "    </tr>\n",
              "    <tr>\n",
              "      <th>343</th>\n",
              "      <td>musical</td>\n",
              "      <td>734</td>\n",
              "    </tr>\n",
              "    <tr>\n",
              "      <th>...</th>\n",
              "      <td>...</td>\n",
              "      <td>...</td>\n",
              "    </tr>\n",
              "    <tr>\n",
              "      <th>13704</th>\n",
              "      <td>longest film</td>\n",
              "      <td>1</td>\n",
              "    </tr>\n",
              "    <tr>\n",
              "      <th>13702</th>\n",
              "      <td>figher airplane</td>\n",
              "      <td>1</td>\n",
              "    </tr>\n",
              "    <tr>\n",
              "      <th>13701</th>\n",
              "      <td>all girl</td>\n",
              "      <td>1</td>\n",
              "    </tr>\n",
              "    <tr>\n",
              "      <th>6268</th>\n",
              "      <td>ancient scroll</td>\n",
              "      <td>1</td>\n",
              "    </tr>\n",
              "    <tr>\n",
              "      <th>19955</th>\n",
              "      <td>acab</td>\n",
              "      <td>1</td>\n",
              "    </tr>\n",
              "  </tbody>\n",
              "</table>\n",
              "<p>19956 rows × 2 columns</p>\n",
              "</div>\n",
              "      <button class=\"colab-df-convert\" onclick=\"convertToInteractive('df-7d4844b2-e6d5-4543-9d3c-33a95a6058fc')\"\n",
              "              title=\"Convert this dataframe to an interactive table.\"\n",
              "              style=\"display:none;\">\n",
              "        \n",
              "  <svg xmlns=\"http://www.w3.org/2000/svg\" height=\"24px\"viewBox=\"0 0 24 24\"\n",
              "       width=\"24px\">\n",
              "    <path d=\"M0 0h24v24H0V0z\" fill=\"none\"/>\n",
              "    <path d=\"M18.56 5.44l.94 2.06.94-2.06 2.06-.94-2.06-.94-.94-2.06-.94 2.06-2.06.94zm-11 1L8.5 8.5l.94-2.06 2.06-.94-2.06-.94L8.5 2.5l-.94 2.06-2.06.94zm10 10l.94 2.06.94-2.06 2.06-.94-2.06-.94-.94-2.06-.94 2.06-2.06.94z\"/><path d=\"M17.41 7.96l-1.37-1.37c-.4-.4-.92-.59-1.43-.59-.52 0-1.04.2-1.43.59L10.3 9.45l-7.72 7.72c-.78.78-.78 2.05 0 2.83L4 21.41c.39.39.9.59 1.41.59.51 0 1.02-.2 1.41-.59l7.78-7.78 2.81-2.81c.8-.78.8-2.07 0-2.86zM5.41 20L4 18.59l7.72-7.72 1.47 1.35L5.41 20z\"/>\n",
              "  </svg>\n",
              "      </button>\n",
              "      \n",
              "  <style>\n",
              "    .colab-df-container {\n",
              "      display:flex;\n",
              "      flex-wrap:wrap;\n",
              "      gap: 12px;\n",
              "    }\n",
              "\n",
              "    .colab-df-convert {\n",
              "      background-color: #E8F0FE;\n",
              "      border: none;\n",
              "      border-radius: 50%;\n",
              "      cursor: pointer;\n",
              "      display: none;\n",
              "      fill: #1967D2;\n",
              "      height: 32px;\n",
              "      padding: 0 0 0 0;\n",
              "      width: 32px;\n",
              "    }\n",
              "\n",
              "    .colab-df-convert:hover {\n",
              "      background-color: #E2EBFA;\n",
              "      box-shadow: 0px 1px 2px rgba(60, 64, 67, 0.3), 0px 1px 3px 1px rgba(60, 64, 67, 0.15);\n",
              "      fill: #174EA6;\n",
              "    }\n",
              "\n",
              "    [theme=dark] .colab-df-convert {\n",
              "      background-color: #3B4455;\n",
              "      fill: #D2E3FC;\n",
              "    }\n",
              "\n",
              "    [theme=dark] .colab-df-convert:hover {\n",
              "      background-color: #434B5C;\n",
              "      box-shadow: 0px 1px 3px 1px rgba(0, 0, 0, 0.15);\n",
              "      filter: drop-shadow(0px 1px 2px rgba(0, 0, 0, 0.3));\n",
              "      fill: #FFFFFF;\n",
              "    }\n",
              "  </style>\n",
              "\n",
              "      <script>\n",
              "        const buttonEl =\n",
              "          document.querySelector('#df-7d4844b2-e6d5-4543-9d3c-33a95a6058fc button.colab-df-convert');\n",
              "        buttonEl.style.display =\n",
              "          google.colab.kernel.accessAllowed ? 'block' : 'none';\n",
              "\n",
              "        async function convertToInteractive(key) {\n",
              "          const element = document.querySelector('#df-7d4844b2-e6d5-4543-9d3c-33a95a6058fc');\n",
              "          const dataTable =\n",
              "            await google.colab.kernel.invokeFunction('convertToInteractive',\n",
              "                                                     [key], {});\n",
              "          if (!dataTable) return;\n",
              "\n",
              "          const docLinkHtml = 'Like what you see? Visit the ' +\n",
              "            '<a target=\"_blank\" href=https://colab.research.google.com/notebooks/data_table.ipynb>data table notebook</a>'\n",
              "            + ' to learn more about interactive tables.';\n",
              "          element.innerHTML = '';\n",
              "          dataTable['output_type'] = 'display_data';\n",
              "          await google.colab.output.renderOutput(dataTable, element);\n",
              "          const docLink = document.createElement('div');\n",
              "          docLink.innerHTML = docLinkHtml;\n",
              "          element.appendChild(docLink);\n",
              "        }\n",
              "      </script>\n",
              "    </div>\n",
              "  </div>\n",
              "  "
            ]
          },
          "metadata": {},
          "execution_count": 101
        }
      ]
    },
    {
      "cell_type": "code",
      "source": [
        "keywords_list_bin = []\n",
        "for i in keywords_df.keywords:\n",
        "    keywords_list_bin.append(i)\n",
        "# keywords_list_bin\n",
        "# len(keywords_list_bin)"
      ],
      "metadata": {
        "id": "a_yK8Zkdxwi1"
      },
      "execution_count": null,
      "outputs": []
    },
    {
      "cell_type": "code",
      "source": [
        "movies['keywords_bin'] = movies['keywords'].apply(lambda x: binary_keywords(x))"
      ],
      "metadata": {
        "id": "kHTjDaRzyCGi"
      },
      "execution_count": null,
      "outputs": []
    },
    {
      "cell_type": "markdown",
      "source": [
        "# **Creating a Machine Learning Model using KNN Algorithm**"
      ],
      "metadata": {
        "id": "TUeTSb2NGRbL"
      }
    },
    {
      "cell_type": "markdown",
      "source": [
        "The below function is to find distance between 2 points(i.e., Movies) using Cosine Similarity"
      ],
      "metadata": {
        "id": "MFsYsfjqgAGR"
      }
    },
    {
      "cell_type": "code",
      "source": [
        "def Similarity(movieId1, movieId2):\n",
        "    a = movies.iloc[movieId1]\n",
        "    b = movies.iloc[movieId2]\n",
        "    \n",
        "    genresA = a['genres_bin']\n",
        "    genresB = b['genres_bin']\n",
        "    \n",
        "    genreDistance = spatial.distance.cosine(genresA, genresB)\n",
        "    \n",
        "    castA = a['cast_bin']\n",
        "    castB = b['cast_bin']\n",
        "    castDistance = spatial.distance.cosine(castA, castB)\n",
        "    \n",
        "    directA = a['director_bin']\n",
        "    directB = b['director_bin']\n",
        "    directDistance = spatial.distance.cosine(directA, directB)\n",
        "    \n",
        "    wordsA = a['keywords_bin']\n",
        "    wordsB = b['keywords_bin']\n",
        "    wordsDistance = spatial.distance.cosine(directA, directB)\n",
        "    return genreDistance + directDistance + castDistance + wordsDistance"
      ],
      "metadata": {
        "id": "59xr4kMgLnBy"
      },
      "execution_count": null,
      "outputs": []
    },
    {
      "cell_type": "code",
      "source": [
        "movies.reset_index(inplace=True)"
      ],
      "metadata": {
        "id": "CxVks_q2L1fc"
      },
      "execution_count": null,
      "outputs": []
    },
    {
      "cell_type": "code",
      "source": [
        "# Distance between movies with IDs 35 and 37 respectively.\n",
        "Similarity(35,37)"
      ],
      "metadata": {
        "id": "09lHZjubLuwX"
      },
      "execution_count": null,
      "outputs": []
    },
    {
      "cell_type": "markdown",
      "source": [
        "Movies having Cosine eucledian Distance greater than 1 are generally not similar.  "
      ],
      "metadata": {
        "id": "xWSNvTy0bJEY"
      }
    },
    {
      "cell_type": "code",
      "source": [
        "# Selecting relevant features\n",
        "new_id = list(range(0,movies.shape[0]))\n",
        "movies['new_id']=new_id\n",
        "movies=movies[['original_title','genres','vote_average','genres_bin','cast_bin','new_id','Director','director_bin','keywords_bin']]\n",
        "movies.head()"
      ],
      "metadata": {
        "id": "7arfknJ2PdYa"
      },
      "execution_count": null,
      "outputs": []
    },
    {
      "cell_type": "code",
      "source": [
        "titles_list = movies['original_title'].tolist()"
      ],
      "metadata": {
        "id": "Hjh9-BJJ-PDY"
      },
      "execution_count": null,
      "outputs": []
    },
    {
      "cell_type": "markdown",
      "source": [
        "The Below function is to predict the similar movies using KNN Algorithm.\n",
        "\n"
      ],
      "metadata": {
        "id": "Uv_3Ro6EbqfJ"
      }
    },
    {
      "cell_type": "code",
      "source": [
        "def Recommend_movie(movie_name):\n",
        "    find_close_match = difflib.get_close_matches(movie_name, titles_list)\n",
        "    print(\"Do you mean?\")\n",
        "    for ind in range(len(find_close_match)):\n",
        "      print(ind+1,\".\",find_close_match[ind])\n",
        "    req = int(input(\"Please select Number: \"))\n",
        "    name = find_close_match[req-1]\n",
        "    new_movie = movies[movies['original_title'].str.contains(name)].iloc[0].to_frame().T\n",
        "    print('Selected Movie: ',new_movie.original_title.values[0])\n",
        "    def getNeighbors(baseMovie, K):\n",
        "        distances = []\n",
        "    \n",
        "        for index, movie in movies.iterrows():\n",
        "            if movie['new_id'] != baseMovie['new_id'].values[0]:\n",
        "                dist = Similarity(baseMovie['new_id'].values[0], movie['new_id'])\n",
        "                distances.append((movie['new_id'], dist))\n",
        "    \n",
        "        distances.sort(key=operator.itemgetter(1))\n",
        "        neighbors = []\n",
        "    \n",
        "        for x in range(K):\n",
        "            neighbors.append(distances[x])\n",
        "        return neighbors\n",
        "\n",
        "    K = 15\n",
        "    avgRating = 0\n",
        "    neighbors = getNeighbors(new_movie, K)\n",
        "    \n",
        "    print('\\nRecommended Movies: \\n')\n",
        "    for neighbor in neighbors:\n",
        "        avgRating = avgRating+movies.iloc[neighbor[0]][2]  \n",
        "        print( movies.iloc[neighbor[0]][0]+\" | Genres: \"+str(movies.iloc[neighbor[0]][1]).strip('[]').replace(' ','')+\" | Rating: \"+str(movies.iloc[neighbor[0]][2]))\n",
        "    \n",
        "    # print('\\n')\n",
        "    # avgRating = avgRating/K\n",
        "    # print('The predicted rating for %s is: %f' %(new_movie['original_title'].values[0],avgRating))\n",
        "    # print('The actual rating for %s is %f' %(new_movie['original_title'].values[0],new_movie['vote_average']))\n",
        "    # print(\"Accuracy: \",(avgRating/new_movie['vote_average'])*100)\n",
        "    "
      ],
      "metadata": {
        "id": "PW62whxPMvvi"
      },
      "execution_count": null,
      "outputs": []
    },
    {
      "cell_type": "code",
      "source": [
        "Recommend_movie(input('Search movies : '))"
      ],
      "metadata": {
        "id": "3J-1B4g2BQ_S"
      },
      "execution_count": null,
      "outputs": []
    }
  ],
  "metadata": {
    "colab": {
      "collapsed_sections": [],
      "name": "movie_recommendation_system using KNN Algo",
      "provenance": [],
      "include_colab_link": true
    },
    "kernelspec": {
      "display_name": "Python 3",
      "name": "python3"
    },
    "language_info": {
      "name": "python"
    }
  },
  "nbformat": 4,
  "nbformat_minor": 0
}